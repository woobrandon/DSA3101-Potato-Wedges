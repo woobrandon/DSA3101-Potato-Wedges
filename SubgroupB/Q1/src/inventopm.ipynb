{
 "cells": [
  {
   "cell_type": "markdown",
   "metadata": {},
   "source": [
    "# Inventory Optimisation\n",
    "\n",
    "In this notebook, we will explore a comprehensive approach to calculate the optimal stock order for each product in each month to optimisise our inventory. "
   ]
  },
  {
   "cell_type": "markdown",
   "metadata": {},
   "source": [
    "## Installing Relevant Packages"
   ]
  },
  {
   "cell_type": "code",
   "execution_count": 124,
   "metadata": {},
   "outputs": [],
   "source": [
    "import pandas as pd\n",
    "import numpy as np\n",
    "import matplotlib.pyplot as plt\n",
    "from scipy.stats import poisson"
   ]
  },
  {
   "cell_type": "markdown",
   "metadata": {},
   "source": [
    "## Data Loading and Date Conversion and Mapping Profit Margins\n",
    "\n",
    "We start off with loading the dataset and converting the year_month column to a datetime format to allow us to use date-based operations.Next, we map each product category to its gross profit margin using the information from the Industry Profit Margins data (FullRatio, 2024). Products with a higher margin will be prioritised for stock adjustments, ensuring more availability for profitable items.\n"
   ]
  },
  {
   "cell_type": "code",
   "execution_count": 125,
   "metadata": {},
   "outputs": [
    {
     "name": "stderr",
     "output_type": "stream",
     "text": [
      "C:\\Users\\Janis\\AppData\\Local\\Temp\\ipykernel_18908\\4231288330.py:27: FutureWarning: A value is trying to be set on a copy of a DataFrame or Series through chained assignment using an inplace method.\n",
      "The behavior will change in pandas 3.0. This inplace method will never work because the intermediate object on which we are setting values always behaves as a copy.\n",
      "\n",
      "For example, when doing 'df[col].method(value, inplace=True)', try using 'df.method({col: value}, inplace=True)' or df[col] = df[col].method(value) instead, to perform the operation inplace on the original object.\n",
      "\n",
      "\n",
      "  data['gross_profit_margin'].fillna(default_margin, inplace=True)\n"
     ]
    }
   ],
   "source": [
    "data = pd.read_csv('../data/train_predictions.csv')\n",
    "industry_profit_margins = pd.read_csv('../data/industry_profit_margins.csv')\n",
    "\n",
    "industry_profit_margins['Average Gross Profit Margin'] = (\n",
    "    industry_profit_margins['Average Gross Profit Margin'].str.replace('%', '').astype(float) / 100\n",
    ")\n",
    "\n",
    "category_to_industry_mapping = {\n",
    "    'Accessories': 'Footwear & Accessories, Accessories & Luxury Goods',\n",
    "    'Apparel': 'Apparel, Apparel Retail',\n",
    "    'Bags': 'Apparel Retail',\n",
    "    'Drinkware': 'Beverages - Non-Alcoholic',\n",
    "    'Electronics': 'Consumer Electronics',\n",
    "    'Fun': 'Toys & Games, Entertainment',\n",
    "    'Gift Cards': 'Speciality Retail',\n",
    "    'Headgear': 'Apparel Retail',\n",
    "    'Housewares': 'Household Products',\n",
    "    'Lifestyle': 'Personal Products',\n",
    "    'Notebooks & Journals': 'Publishing',\n",
    "    'Office': 'Office Supplies'\n",
    "}\n",
    "\n",
    "data['mapped_industry'] = data['product_category'].map(category_to_industry_mapping)\n",
    "industry_profit_mapping = industry_profit_margins.set_index('Industry')['Average Gross Profit Margin'].to_dict()\n",
    "data['gross_profit_margin'] = data['mapped_industry'].map(industry_profit_mapping)\n",
    "default_margin = 0.2\n",
    "data['gross_profit_margin'].fillna(default_margin, inplace=True)"
   ]
  },
  {
   "cell_type": "markdown",
   "metadata": {},
   "source": [
    "## Calculating Mean Demand and Assigning Dynamic Service Levels\n",
    "\n",
    "We first calculate the average demand for each product category using the mean demand using a customised calculation. We then assign a service level based on the mean demand and map the calculated service levels back to the main data. Categories with higher-demand products will have a higher service level.\n",
    "\n",
    "| CV Range     | Assigned Service Level |\n",
    "|--------------|------------------------|\n",
    "| CV < 1       | 90%                    |\n",
    "| 1 ≤ CV < 2   | 93%                    |\n",
    "| 2 ≤ CV < 3   | 95%                    |\n",
    "| 3 ≤ CV < 4   | 97%                    |\n",
    "| CV ≥ 4       | 98%                    |"
   ]
  },
  {
   "cell_type": "code",
   "execution_count": 126,
   "metadata": {},
   "outputs": [
    {
     "name": "stdout",
     "output_type": "stream",
     "text": [
      "        product_category  mean_demand  service_level\n",
      "0            Accessories     3.159091           0.97\n",
      "1                Apparel     0.631697           0.90\n",
      "2                   Bags    15.622951           0.98\n",
      "3              Drinkware    33.010536           0.98\n",
      "4            Electronics    12.578431           0.98\n",
      "5                    Fun     7.033333           0.98\n",
      "6             Gift Cards     2.625000           0.95\n",
      "7               Headgear     4.572785           0.98\n",
      "8             Housewares    25.466667           0.98\n",
      "9              Lifestyle    20.245556           0.98\n",
      "10  Notebooks & Journals    27.920455           0.98\n",
      "11                Office    41.282960           0.98\n"
     ]
    }
   ],
   "source": [
    "category_demand_stats = data.groupby('product_category')['forecast_qty'].mean().reset_index()\n",
    "category_demand_stats = category_demand_stats.rename(columns={'forecast_qty': 'mean_demand'})\n",
    "\n",
    "def assign_service_level(mean_demand):\n",
    "    if mean_demand < 1:\n",
    "        return 0.90  # Low variability\n",
    "    elif 1 <= mean_demand < 2:\n",
    "        return 0.93  # Moderate variability\n",
    "    elif 2 <= mean_demand < 3:\n",
    "        return 0.95  # High variability\n",
    "    elif 3 <= mean_demand < 4:\n",
    "        return 0.97  # Very high variability\n",
    "    else:\n",
    "        return 0.98  # Extremely high variability\n",
    "\n",
    "category_demand_stats['service_level'] = category_demand_stats['mean_demand'].apply(assign_service_level)\n",
    "service_level_mapping = category_demand_stats.set_index('product_category')['service_level'].to_dict()\n",
    "data['service_level'] = data['product_category'].map(service_level_mapping)\n",
    "\n",
    "print(category_demand_stats[['product_category', 'mean_demand', 'service_level']])"
   ]
  },
  {
   "cell_type": "markdown",
   "metadata": {},
   "source": [
    "## Calculate Demand Variability for Individual Products and set Lead Time\n",
    "\n",
    "We calculate standard deviation of demand for each product as demand_variability. The higher the service level, the higher the safety stock requirement, which reduces stockouts but increases holding costs.\n"
   ]
  },
  {
   "cell_type": "code",
   "execution_count": 127,
   "metadata": {},
   "outputs": [],
   "source": [
    "data['demand_variability'] = data.groupby('product_id')['forecast_qty'].transform('std').fillna(0)\n",
    "lead_time = 2"
   ]
  },
  {
   "cell_type": "markdown",
   "metadata": {},
   "source": [
    "## Safety Stock Calculation\n",
    "\n",
    "We proceed to calculate the mean demand for each product, and use Poisson distribution to calculate safety_stock_poisson, which adjusts safety stock based on service level and mean demand (Sortly, 2024)."
   ]
  },
  {
   "cell_type": "code",
   "execution_count": 128,
   "metadata": {},
   "outputs": [],
   "source": [
    "data['mean_demand'] = data.groupby('product_id')['forecast_qty'].transform('mean')\n",
    "data['safety_stock_poisson'] = data.apply(\n",
    "    lambda row: poisson.ppf(row['service_level'], row['mean_demand']) - row['mean_demand'], axis=1\n",
    ")"
   ]
  },
  {
   "cell_type": "markdown",
   "metadata": {},
   "source": [
    "## Safety Stock Adjustment\n",
    "\n",
    "This adjusts safety stock based on profit margin. Higher-margin items receive a proportionally higher safety stock buffer. The scaling factor 0.3 controls the strength of this adjustment."
   ]
  },
  {
   "cell_type": "code",
   "execution_count": 129,
   "metadata": {},
   "outputs": [],
   "source": [
    "profit_margin_scale = 0.3\n",
    "data['adjusted_safety_stock'] = data['safety_stock_poisson'] * (1 + data['gross_profit_margin'] * profit_margin_scale)"
   ]
  },
  {
   "cell_type": "markdown",
   "metadata": {},
   "source": [
    "## Seasonal Adjustment and Calculate Reorder Amount\n",
    "\n",
    "According to seasonal factors for certain months with higher demands such as December, we include a customised seasonal buffer to ensure we have enough stock during peak sales periods (Jezy, 2024). Some examples include New Year's in January, back to school season in July / August, Black Friday and Cyber Monday sales in November, and the holiday season in December. We then determine the reorder amount based on forecasted demand and safety stock. This represents the quantity to meet demand."
   ]
  },
  {
   "cell_type": "code",
   "execution_count": 130,
   "metadata": {},
   "outputs": [],
   "source": [
    "data['year_month'] = pd.to_datetime(data['year_month'], errors='coerce')\n",
    "data['month'] = data['year_month'].dt.month\n",
    "\n",
    "seasonal_multipliers = {\n",
    "    1: 1.1,\n",
    "    2: 1.05,\n",
    "    3: 1.0,\n",
    "    4: 1.0,\n",
    "    5: 1.05,\n",
    "    6: 1.0,\n",
    "    7: 1.15,\n",
    "    8: 1.1,\n",
    "    9: 1.0,\n",
    "    10: 1.2,\n",
    "    11: 1.25,\n",
    "    12: 1.3\n",
    "}\n",
    "\n",
    "data['seasonal_adjustment'] = data['month'].map(seasonal_multipliers).fillna(1.0)\n",
    "data['final_safety_stock'] = data['adjusted_safety_stock'] * data['seasonal_adjustment']"
   ]
  },
  {
   "cell_type": "markdown",
   "metadata": {},
   "source": [
    "## Calculate Final Reorder Amount\n",
    "\n",
    "By adding forecast quantity to the dinal safety stock, we calculate the reorder amount. Then, we include an additional 10% buffer for items with high demand variability to prevent stockouts for unpredictable items. We then round up the final reorder amount."
   ]
  },
  {
   "cell_type": "code",
   "execution_count": 131,
   "metadata": {},
   "outputs": [],
   "source": [
    "data['reorder_amount'] = data['forecast_qty'] + data['final_safety_stock']\n",
    "high_variability_threshold = 10\n",
    "variability_multiplier = 1.1\n",
    "data['final_reorder_amount'] = np.where(\n",
    "    data['demand_variability'] > high_variability_threshold,\n",
    "    data['reorder_amount'] * variability_multiplier,\n",
    "    data['reorder_amount']\n",
    ")\n",
    "data['final_reorder_amount'] = np.ceil(data['final_reorder_amount'])"
   ]
  },
  {
   "cell_type": "markdown",
   "metadata": {},
   "source": [
    "## Group by Month and Product and Provide Final Output\n",
    "\n",
    "We aggregate the reorder ampunts by month and product to provide a *monthly* reorder plan which shows how much stock to order each month for each product. We then output the first few rows of our monthly_reorder dataframe. We also output a graph which shows the reorder amount over a year for the user to better identify if there is a trend in the reorder amounts. This will be added on our frontend."
   ]
  },
  {
   "cell_type": "code",
   "execution_count": 132,
   "metadata": {},
   "outputs": [
    {
     "name": "stdout",
     "output_type": "stream",
     "text": [
      "  year_month      product_id  final_reorder_amount\n",
      "0 2016-08-01  GGOEA0CH077599                   8.0\n",
      "1 2016-08-01  GGOEAAAB034813                   6.0\n",
      "2 2016-08-01  GGOEAAAB034814                  14.0\n",
      "3 2016-08-01  GGOEAAAB034815                  14.0\n",
      "4 2016-08-01  GGOEAAAB034816                  13.0\n"
     ]
    },
    {
     "data": {
      "image/png": "[encoded data removed]",
      "text/plain": [
       "<Figure size 1200x600 with 1 Axes>"
      ]
     },
     "metadata": {},
     "output_type": "display_data"
    }
   ],
   "source": [
    "monthly_reorder = data.groupby([data['year_month'].dt.to_period('M'), 'product_id'])['final_reorder_amount'].sum().reset_index()\n",
    "monthly_reorder['year_month'] = monthly_reorder['year_month'].dt.to_timestamp()\n",
    "monthly_reorder.to_csv(\"../data/monthly_reorder.csv\", index = False)\n",
    "\n",
    "print(monthly_reorder.head())\n",
    "\n",
    "sample_product_id = 'GGOEA0CH077599' # Replace with product id for viewing\n",
    "\n",
    "sample_reorder_train = monthly_reorder[monthly_reorder['product_id'] == sample_product_id]\n",
    "\n",
    "plt.figure(figsize=(12, 6))\n",
    "plt.plot(sample_reorder_train['year_month'], sample_reorder_train['final_reorder_amount'], marker='o', color='b', label='Reorder Amount')\n",
    "plt.title(f'Reorder Amount Over Time for Product ID: {sample_product_id}')\n",
    "plt.xlabel('Month')\n",
    "plt.ylabel('Reorder Amount')\n",
    "plt.xticks(rotation=45)\n",
    "plt.legend()\n",
    "plt.grid(True)\n",
    "plt.tight_layout()\n",
    "\n",
    "plt.show()\n"
   ]
  },
  {
   "cell_type": "markdown",
   "metadata": {},
   "source": [
    "## Use test data for Next Month Predictions\n",
    "\n",
    "We apply the same processing to test data."
   ]
  },
  {
   "cell_type": "code",
   "execution_count": 123,
   "metadata": {},
   "outputs": [
    {
     "name": "stdout",
     "output_type": "stream",
     "text": [
      "\n",
      "Next Month's Reorder Plan (Test Data - August 2017):\n",
      "  year_month      product_id  final_reorder_amount\n",
      "0 2017-08-01  GGOEA0CH077599                   8.0\n",
      "1 2017-08-01  GGOEAAAB034813                   9.0\n",
      "2 2017-08-01  GGOEAAAB034814                  14.0\n",
      "3 2017-08-01  GGOEAAAB034815                  19.0\n",
      "4 2017-08-01  GGOEAAAB034816                  17.0\n"
     ]
    }
   ],
   "source": [
    "test_data = pd.read_csv('../data/forecast_predictions.csv')\n",
    "test_data['year_month'] = pd.to_datetime('2017-08-01')\n",
    "test_data['service_level'] = test_data['product_category'].map(service_level_mapping)\n",
    "test_data['gross_profit_margin'] = test_data['product_category'].map(category_to_industry_mapping).map(industry_profit_mapping).fillna(default_margin)\n",
    "\n",
    "historical_demand_variability = data.groupby('product_id')['forecast_qty'].std()\n",
    "test_data['demand_variability'] = test_data['product_id'].map(historical_demand_variability).fillna(0)\n",
    "test_data['seasonal_adjustment'] = seasonal_multipliers.get(8, 1.0)\n",
    "\n",
    "test_data['mean_demand'] = test_data.groupby('product_id')['forecast_qty'].transform('mean')\n",
    "test_data['safety_stock_poisson'] = test_data.apply(\n",
    "    lambda row: poisson.ppf(row['service_level'], row['mean_demand']) - row['mean_demand'], axis=1\n",
    ")\n",
    "test_data['adjusted_safety_stock'] = test_data['safety_stock_poisson'] * (1 + test_data['gross_profit_margin'] * profit_margin_scale)\n",
    "test_data['final_safety_stock'] = test_data['adjusted_safety_stock'] * test_data['seasonal_adjustment']\n",
    "test_data['reorder_amount'] = test_data['forecast_qty'] + test_data['final_safety_stock']\n",
    "test_data['final_reorder_amount'] = np.where(\n",
    "    test_data['demand_variability'] > high_variability_threshold,\n",
    "    test_data['reorder_amount'] * variability_multiplier,\n",
    "    test_data['reorder_amount']\n",
    ")\n",
    "test_data['final_reorder_amount'] = np.ceil(test_data['final_reorder_amount'])\n",
    "\n",
    "monthly_reorder_test = test_data.groupby(['year_month', 'product_id'])['final_reorder_amount'].sum().reset_index()\n",
    "print(\"\\nNext Month's Reorder Plan (Test Data - August 2017):\")\n",
    "print(monthly_reorder_test.head())"
   ]
  },
  {
   "cell_type": "code",
   "execution_count": null,
   "metadata": {},
   "outputs": [],
   "source": [
    "monthly_reorder_test.to_csv('../data/monthly_reorder_test.csv', index = False)"
   ]
  },
  {
   "cell_type": "markdown",
   "metadata": {},
   "source": [
    "# Citations\n",
    "\n",
    "FullRatio. (2024) Profit margin by industry https://fullratio.com/profit-margin-by-industry\n",
    "\n",
    "Jezy, M. (2024). Amazon Peak Season 2024: All about the most important peak season days in e-commerce. Quivo. https://quivo.co/us/amazon-peak-season-most-important-e-commerce-days-2024\n",
    "\n",
    "Sortly. (Feb 2024) Calculating the Right Amount of Buffer Stock https://www.sortly.com/blog/buffer-stock/"
   ]
  }
 ],
 "metadata": {
  "kernelspec": {
   "display_name": "DSA3101",
   "language": "python",
   "name": "python3"
  },
  "language_info": {
   "codemirror_mode": {
    "name": "ipython",
    "version": 3
   },
   "file_extension": ".py",
   "mimetype": "text/x-python",
   "name": "python",
   "nbconvert_exporter": "python",
   "pygments_lexer": "ipython3",
   "version": "3.12.4"
  }
 },
 "nbformat": 4,
 "nbformat_minor": 2
}
