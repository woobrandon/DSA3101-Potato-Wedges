{
 "cells": [
  {
   "cell_type": "markdown",
   "metadata": {},
   "source": [
    "## Product Recommendation System"
   ]
  },
  {
   "cell_type": "markdown",
   "metadata": {},
   "source": [
    "Reference: https://medium.com/@prateekgaurav/step-by-step-content-based-recommendation-system-823bbfd0541c"
   ]
  },
  {
   "cell_type": "code",
   "execution_count": null,
   "metadata": {},
   "outputs": [],
   "source": [
    "from google.cloud import bigquery\n",
    "import pandas as pd\n",
    "import numpy as np\n",
    "import re\n",
    "import matplotlib.pyplot as plt\n",
    "import seaborn as sns\n",
    "import warnings\n",
    "import nltk\n",
    "from nltk.tokenize import word_tokenize\n",
    "from nltk.stem import WordNetLemmatizer\n",
    "from nltk.corpus import stopwords\n",
    "from gensim.models import Word2Vec, KeyedVectors\n",
    "import gensim.downloader as api\n",
    "from sklearn.metrics.pairwise import cosine_similarity\n",
    "\n",
    "nltk.download('wordnet')\n",
    "nltk.download('punkt_tab')\n",
    "\n",
    "\n",
    "warnings.filterwarnings(\"ignore\")\n",
    "pd.set_option(\"display.max_columns\", None)\n",
    "pd.set_option('display.width', 10000)\n",
    "\n",
    "# Change the project name here to your project name in your account\n",
    "client = bigquery.Client(project=\"ambient-sylph-426620-g6\") # Odele"
   ]
  },
  {
   "cell_type": "markdown",
   "metadata": {},
   "source": [
    "### 1. Querying product information"
   ]
  },
  {
   "cell_type": "code",
   "execution_count": 269,
   "metadata": {},
   "outputs": [],
   "source": [
    "query = '''\n",
    "    SELECT distinct\n",
    "        product.productSKU AS product_id\n",
    "        ,product.productBrand AS product_brand\n",
    "        ,product.productVariant AS product_variant\n",
    "        ,product.v2ProductName AS product_name\n",
    "        ,product.v2ProductCategory AS product_category\n",
    "        ,product.productPrice/1000000 AS price_temp\n",
    "        ,count(DISTINCT date_trunc(PARSE_DATETIME(\"%Y%m%d %H:%M:%S\", CONCAT(date, ' ' ,hour,':',minute,':00')), day)) as days\n",
    "    FROM `bigquery-public-data.google_analytics_sample.ga_sessions_*`,\n",
    "        UNNEST(hits) AS hits\n",
    "    LEFT JOIN UNNEST(hits.product) AS product ON TRUE\n",
    "    GROUP BY 1,2,3,4,5,6\n",
    "    \n",
    "'''\n",
    "\n",
    "rows = client.query(query)\n",
    "raw_product_data = rows.to_dataframe()\n"
   ]
  },
  {
   "cell_type": "markdown",
   "metadata": {},
   "source": [
    "### 2. Data cleaning"
   ]
  },
  {
   "cell_type": "code",
   "execution_count": 270,
   "metadata": {},
   "outputs": [],
   "source": [
    "# Removing special characters and leading whitespace \n",
    "raw_product_data['product_variant'] = raw_product_data['product_variant'].str.lstrip()\n",
    "replacements = {'2XL': 'XXL', '3XL':'XXXL', 'L/XL': 'LG XL', 'S/M': 'SM MD', 'M/L': 'MD LG'}\n",
    "raw_product_data['product_variant'].replace(replacements, inplace = True)\n",
    "\n",
    "raw_product_data['product_category'] = raw_product_data['product_category'].str.replace(r\"[\\'&]\",'',regex = True)\n",
    "raw_product_data['product_category'] = raw_product_data['product_category'].str.replace(r\"[-/]\", \" \", regex = True)\n",
    "raw_product_data['product_category'] = raw_product_data['product_category'].str.replace(r\"\\$\\{.*?\\}\", '', regex = True)\n",
    "\n",
    "raw_product_data['product_name'] = raw_product_data['product_name'].str.replace('/', ' ')\n",
    "raw_product_data['product_name'] = raw_product_data['product_name'].str.replace(r\"[\\'-]\",'',regex = True)\n",
    "\n",
    "# Turn fields with nonsensical names into NA\n",
    "raw_product_data.replace(['(not set)', 'Single Option Only'], np.nan, inplace = True)\n",
    "\n",
    "# NA fields will not contribute anything to the product description\n",
    "raw_product_data['product_brand'].fillna('', inplace = True)\n",
    "raw_product_data['product_variant'].fillna('', inplace = True)\n",
    "raw_product_data['product_category'].fillna('', inplace = True)\n",
    "raw_product_data['product_name'].fillna('', inplace = True)\n",
    "\n",
    "# Join product category, brand, name and variant into single string\n",
    "raw_product_data['product_desc'] = raw_product_data.apply(lambda x: ' '.join([x['product_category'], x['product_brand'], x['product_name'], x['product_variant']]), axis = 1)\n",
    "\n",
    "# Resolve price discrepancies by replacing by modal price\n",
    "product_by_id = raw_product_data.groupby(['product_id', 'price_temp'])['days'].sum().reset_index()\n",
    "product_prices = product_by_id.loc[product_by_id.groupby('product_id')['days'].idxmax(), [\"product_id\", \"price_temp\"]]\n",
    "product_prices.rename({\"price_temp\":\"product_price\"}, axis = 1, inplace = True)\n",
    "raw_product_data = raw_product_data.merge(product_prices, how = 'left', on = 'product_id')\n",
    "raw_product_data.drop(['days', 'price_temp'], axis = 1, inplace = True)\n",
    "\n",
    "# Resolve discrepancies in product descriptions by combining descriptions\n",
    "product_df = raw_product_data.groupby(['product_id', 'product_price'])['product_desc'].apply(lambda x: ' '.join(set(x))).reset_index()"
   ]
  },
  {
   "cell_type": "code",
   "execution_count": null,
   "metadata": {},
   "outputs": [],
   "source": [
    "# Tokenize and lemmatize product descriptions\n",
    "lemmatizer = WordNetLemmatizer()\n",
    "stop_words = set(stopwords.words('english'))\n",
    "product_df['tokens'] = product_df['product_desc'].apply(lambda x: word_tokenize(x))\n",
    "\n",
    "def lemmatize(l):\n",
    "    lemmatized = [word.lower() for word in l if word not in stop_words and word.isalpha()]\n",
    "    return [lemmatizer.lemmatize(word) for word in lemmatized]\n",
    "\n",
    "product_df['lemma'] = product_df['tokens'].apply(lambda x: lemmatize(x))"
   ]
  },
  {
   "cell_type": "markdown",
   "metadata": {},
   "source": [
    "### 3. Word embeddings"
   ]
  },
  {
   "cell_type": "code",
   "execution_count": 154,
   "metadata": {},
   "outputs": [],
   "source": [
    "# Download and load GloVe embeddings\n",
    "model = api.load('glove-wiki-gigaword-100')"
   ]
  },
  {
   "cell_type": "code",
   "execution_count": 299,
   "metadata": {},
   "outputs": [],
   "source": [
    "# Get vector embedding associated with each product \n",
    "def mean_vector(desc, model, vocab, id_map, vector_dim):\n",
    "    vec = np.zeros(vector_dim)\n",
    "    word_count = 0\n",
    "\n",
    "    for word in desc:\n",
    "        if word in id_map:                      # verify that there is a vector embedding for that word\n",
    "            vec = np.add(vec, model[word])     \n",
    "            word_count += 1\n",
    "    vec = np.divide(vec, word_count)            # find mean of vectors representing words in product description\n",
    "    return np.array(vec)\n",
    "\n",
    "vocab = set(product_df['lemma'].sum())\n",
    "id_map = model.key_to_index\n",
    "corpus = product_df['lemma']\n",
    "product_df['vector'] = product_df.apply(lambda x: mean_vector(x['lemma'], model, vocab, id_map, 100), axis = 1)\n"
   ]
  },
  {
   "cell_type": "code",
   "execution_count": 307,
   "metadata": {},
   "outputs": [],
   "source": [
    "def upsell(id):\n",
    "    mat = np.vstack(product_df['vector'])                                                       # embeddings for each product\n",
    "    base_vec = np.array([product_df.loc[product_df['product_id'] == id, 'vector'].values[0]])   # embedding for queried product\n",
    "    cos_sim = cosine_similarity(base_vec, mat).flatten()                                        # find cosine similarity between queried product and all othe prroducts\n",
    "\n",
    "    df = product_df.copy()\n",
    "    df['similarity'] = cos_sim\n",
    "    df.drop(['tokens', 'lemma', 'vector'], axis = 1, inplace = True)\n",
    "    curr_price = df.loc[df['product_id'] == id, 'product_price'].values[0]                      # obtain price of current product\n",
    "    df = df.loc[df['product_id'] != id]\n",
    "    \n",
    "    return df.loc[(df['product_id'] != id) & (df['product_price'] > curr_price)].sort_values('similarity', ascending = False).head(10)  # only return products that are more expensive\n",
    "\n",
    "def crossell(id):\n",
    "    mat = np.vstack(product_df['vector'])\n",
    "    base_vec = np.array([product_df.loc[product_df['product_id'] == id, 'vector'].values[0]])\n",
    "    cos_sim = cosine_similarity(base_vec, mat).flatten()\n",
    "\n",
    "    df = product_df.copy()\n",
    "    df['similarity'] = cos_sim\n",
    "    df.drop(['tokens', 'lemma', 'vector'], axis = 1, inplace = True)\n",
    "    df = df.loc[df['product_id'] != id]\n",
    "    \n",
    "    return df.loc[(df['product_id'] != id) & (df['similarity'] < 0.8)].sort_values('similarity', ascending = False).head(10)    # return products that are similar, but not too similar?"
   ]
  },
  {
   "cell_type": "code",
   "execution_count": 308,
   "metadata": {},
   "outputs": [
    {
     "data": {
      "text/html": [
       "<div>\n",
       "<style scoped>\n",
       "    .dataframe tbody tr th:only-of-type {\n",
       "        vertical-align: middle;\n",
       "    }\n",
       "\n",
       "    .dataframe tbody tr th {\n",
       "        vertical-align: top;\n",
       "    }\n",
       "\n",
       "    .dataframe thead th {\n",
       "        text-align: right;\n",
       "    }\n",
       "</style>\n",
       "<table border=\"1\" class=\"dataframe\">\n",
       "  <thead>\n",
       "    <tr style=\"text-align: right;\">\n",
       "      <th></th>\n",
       "      <th>product_id</th>\n",
       "      <th>product_price</th>\n",
       "      <th>product_desc</th>\n",
       "      <th>similarity</th>\n",
       "    </tr>\n",
       "  </thead>\n",
       "  <tbody>\n",
       "    <tr>\n",
       "      <th>772</th>\n",
       "      <td>GGOEGAAQ010416</td>\n",
       "      <td>16.99</td>\n",
       "      <td>Google Mens 100% Cotton Short Sleeve Hero Te...</td>\n",
       "      <td>0.799889</td>\n",
       "    </tr>\n",
       "    <tr>\n",
       "      <th>1096</th>\n",
       "      <td>GGOEGAEA030417</td>\n",
       "      <td>19.99</td>\n",
       "      <td>Google Womens 3 4 Sleeve Baseball Raglan Hea...</td>\n",
       "      <td>0.799815</td>\n",
       "    </tr>\n",
       "    <tr>\n",
       "      <th>816</th>\n",
       "      <td>GGOEGAAX0281</td>\n",
       "      <td>16.99</td>\n",
       "      <td>Home Shop by Brand Google   Google Womens Shor...</td>\n",
       "      <td>0.799278</td>\n",
       "    </tr>\n",
       "    <tr>\n",
       "      <th>912</th>\n",
       "      <td>GGOEGAAX0580</td>\n",
       "      <td>109.99</td>\n",
       "      <td>Home Shop by Brand Google   Google Womens 1 4 ...</td>\n",
       "      <td>0.799009</td>\n",
       "    </tr>\n",
       "    <tr>\n",
       "      <th>715</th>\n",
       "      <td>GGOEGAAJ032616</td>\n",
       "      <td>18.99</td>\n",
       "      <td>Google Mens Short Sleeve Badge Tee Charcoal ...</td>\n",
       "      <td>0.798683</td>\n",
       "    </tr>\n",
       "    <tr>\n",
       "      <th>1333</th>\n",
       "      <td>GGOEGAPB057813</td>\n",
       "      <td>67.19</td>\n",
       "      <td>Womens Performance Full Zip Jacket Black    ...</td>\n",
       "      <td>0.797855</td>\n",
       "    </tr>\n",
       "    <tr>\n",
       "      <th>10</th>\n",
       "      <td>10 14215</td>\n",
       "      <td>0.00</td>\n",
       "      <td>Mens Outerwear Google Fleece FullZip Hoodie</td>\n",
       "      <td>0.797830</td>\n",
       "    </tr>\n",
       "    <tr>\n",
       "      <th>906</th>\n",
       "      <td>GGOEGAAX0574</td>\n",
       "      <td>89.99</td>\n",
       "      <td>Home Apparel   Google Mens Performance Polo Gr...</td>\n",
       "      <td>0.797605</td>\n",
       "    </tr>\n",
       "    <tr>\n",
       "      <th>1127</th>\n",
       "      <td>GGOEGAEC033117</td>\n",
       "      <td>24.99</td>\n",
       "      <td>Google Long Sleeve Raglan Badge Henley Ocean...</td>\n",
       "      <td>0.797580</td>\n",
       "    </tr>\n",
       "    <tr>\n",
       "      <th>826</th>\n",
       "      <td>GGOEGAAX0291</td>\n",
       "      <td>18.99</td>\n",
       "      <td>Google Womens Short Sleeve Hero Tee Sky Blue...</td>\n",
       "      <td>0.797265</td>\n",
       "    </tr>\n",
       "  </tbody>\n",
       "</table>\n",
       "</div>"
      ],
      "text/plain": [
       "          product_id  product_price                                       product_desc  similarity\n",
       "772   GGOEGAAQ010416          16.99    Google Mens 100% Cotton Short Sleeve Hero Te...    0.799889\n",
       "1096  GGOEGAEA030417          19.99    Google Womens 3 4 Sleeve Baseball Raglan Hea...    0.799815\n",
       "816     GGOEGAAX0281          16.99  Home Shop by Brand Google   Google Womens Shor...    0.799278\n",
       "912     GGOEGAAX0580         109.99  Home Shop by Brand Google   Google Womens 1 4 ...    0.799009\n",
       "715   GGOEGAAJ032616          18.99    Google Mens Short Sleeve Badge Tee Charcoal ...    0.798683\n",
       "1333  GGOEGAPB057813          67.19    Womens Performance Full Zip Jacket Black    ...    0.797855\n",
       "10          10 14215           0.00       Mens Outerwear Google Fleece FullZip Hoodie     0.797830\n",
       "906     GGOEGAAX0574          89.99  Home Apparel   Google Mens Performance Polo Gr...    0.797605\n",
       "1127  GGOEGAEC033117          24.99    Google Long Sleeve Raglan Badge Henley Ocean...    0.797580\n",
       "826     GGOEGAAX0291          18.99    Google Womens Short Sleeve Hero Tee Sky Blue...    0.797265"
      ]
     },
     "execution_count": 308,
     "metadata": {},
     "output_type": "execute_result"
    }
   ],
   "source": [
    "# upsell('GGOEGADJ059417')\n",
    "crossell('GGOEGADJ059417')"
   ]
  }
 ],
 "metadata": {
  "kernelspec": {
   "display_name": "dsa3101",
   "language": "python",
   "name": "python3"
  },
  "language_info": {
   "codemirror_mode": {
    "name": "ipython",
    "version": 3
   },
   "file_extension": ".py",
   "mimetype": "text/x-python",
   "name": "python",
   "nbconvert_exporter": "python",
   "pygments_lexer": "ipython3",
   "version": "3.12.2"
  }
 },
 "nbformat": 4,
 "nbformat_minor": 2
}
