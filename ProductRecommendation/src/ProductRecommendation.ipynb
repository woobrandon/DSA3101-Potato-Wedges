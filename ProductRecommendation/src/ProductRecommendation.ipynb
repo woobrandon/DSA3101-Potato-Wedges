{
 "cells": [
  {
   "cell_type": "markdown",
   "metadata": {},
   "source": [
    "## Product Recommendation System"
   ]
  },
  {
   "cell_type": "markdown",
   "metadata": {},
   "source": [
    "In this notebook, we will attempt to built a product recommendation system to encourage upselling and crossselling. These objectives will be achieved through two separate methods:\n",
    "1. Upselling: Develop a content-based recommendation system that searches for products with similar descriptions. Given a product, it will output similar products that are of a higher price. These will be primarily be recommended to buyers only during the visit session where they show interest in a product, from the point they click on it to the point they checkout.\n",
    "<br>\n",
    "<br>\n",
    "2. Crossselling: Identify products that are frequently bought together and recommend them to buyers. This can be recommended to buyers after they have placed an item in their basket, even in marketing emails sent to buyers after their purchase. "
   ]
  },
  {
   "cell_type": "markdown",
   "metadata": {},
   "source": [
    "As covered in GoogleAnalyticsAnalysis.ipynb, most visitors to the store are first time buyers. This section will attempt to expand upon this finding by delving deeper into the types of products that repeat customers frequently buy, as well as products that are often bought together. In doing so, we aim to better understand the buying patterns of customers, which will allow us to create an appropriate marketing strategy. "
   ]
  },
  {
   "cell_type": "code",
   "execution_count": 1,
   "metadata": {},
   "outputs": [
    {
     "name": "stderr",
     "output_type": "stream",
     "text": [
      "[nltk_data] Downloading package wordnet to /Users/admin/nltk_data...\n",
      "[nltk_data]   Package wordnet is already up-to-date!\n",
      "[nltk_data] Downloading package punkt_tab to /Users/admin/nltk_data...\n",
      "[nltk_data]   Package punkt_tab is already up-to-date!\n"
     ]
    }
   ],
   "source": [
    "from google.cloud import bigquery\n",
    "import pandas as pd\n",
    "import numpy as np\n",
    "import re\n",
    "import matplotlib.pyplot as plt\n",
    "import seaborn as sns\n",
    "import warnings\n",
    "import nltk\n",
    "from nltk.tokenize import word_tokenize\n",
    "from nltk.stem import WordNetLemmatizer\n",
    "from nltk.corpus import stopwords\n",
    "from gensim.models import Word2Vec, KeyedVectors\n",
    "import gensim.downloader as api\n",
    "from sklearn.metrics.pairwise import cosine_similarity\n",
    "from collections import Counter\n",
    "\n",
    "nltk.download('wordnet')\n",
    "nltk.download('punkt_tab')\n",
    "\n",
    "\n",
    "warnings.filterwarnings(\"ignore\")\n",
    "pd.set_option(\"display.max_columns\", None)\n",
    "pd.set_option('display.width', 10000)\n",
    "\n",
    "# Change the project name here to your project name in your account\n",
    "client = bigquery.Client(project=\"ambient-sylph-426620-g6\") # Odele"
   ]
  },
  {
   "cell_type": "markdown",
   "metadata": {},
   "source": [
    "## Product similarity score"
   ]
  },
  {
   "cell_type": "markdown",
   "metadata": {},
   "source": [
    "To construct a function capable of producing the similarity score between two products, we need to first query data on all products available on the store."
   ]
  },
  {
   "cell_type": "code",
   "execution_count": 2,
   "metadata": {},
   "outputs": [],
   "source": [
    "query = '''\n",
    "    SELECT distinct\n",
    "        product.productSKU AS product_id\n",
    "        ,product.productBrand AS product_brand\n",
    "        ,product.productVariant AS product_variant\n",
    "        ,product.v2ProductName AS product_name\n",
    "        ,product.v2ProductCategory AS product_category\n",
    "        ,product.productPrice/1000000 AS price_temp\n",
    "        ,count(DISTINCT date_trunc(PARSE_DATETIME(\"%Y%m%d %H:%M:%S\", CONCAT(date, ' ' ,hour,':',minute,':00')), day)) as days\n",
    "    FROM `bigquery-public-data.google_analytics_sample.ga_sessions_*`,\n",
    "        UNNEST(hits) AS hits\n",
    "    LEFT JOIN UNNEST(hits.product) AS product ON TRUE\n",
    "    GROUP BY 1,2,3,4,5,6\n",
    "    \n",
    "'''\n",
    "\n",
    "rows = client.query(query)\n",
    "raw_product_data = rows.to_dataframe()\n"
   ]
  },
  {
   "cell_type": "markdown",
   "metadata": {},
   "source": [
    "We proceed to clean the dataset to prepare it for further analysis. A product's description will be taken to be the combination of name, brand, variant* and category.\n",
    "<br>\n",
    "<br>\n",
    "*Variant refers to attributes of the product, such as size and colour"
   ]
  },
  {
   "cell_type": "code",
   "execution_count": 3,
   "metadata": {},
   "outputs": [],
   "source": [
    "# Remove rows with invalid product IDs\n",
    "raw_product_data.dropna(subset = ['product_id'], inplace = True)\n",
    "\n",
    "# Removing special characters and leading whitespace \n",
    "raw_product_data['product_variant'] = raw_product_data['product_variant'].str.lstrip()\n",
    "replacements = {'2XL': 'XXL', '3XL':'XXXL', 'L/XL': 'LG XL', 'S/M': 'SM MD', 'M/L': 'MD LG'}\n",
    "raw_product_data['product_variant'].replace(replacements, inplace = True)\n",
    "\n",
    "raw_product_data['product_category'] = raw_product_data['product_category'].str.replace(r\"[\\'&]\",'',regex = True)\n",
    "raw_product_data['product_category'] = raw_product_data['product_category'].str.replace(r\"[-/]\", \" \", regex = True)\n",
    "raw_product_data['product_category'] = raw_product_data['product_category'].str.replace(r\"\\$\\{.*?\\}\", '', regex = True)\n",
    "\n",
    "raw_product_data['product_name'] = raw_product_data['product_name'].str.replace('/', ' ')\n",
    "raw_product_data['product_name'] = raw_product_data['product_name'].str.replace(r\"[\\'-]\",'',regex = True)\n",
    "\n",
    "# Turn fields with placeholder names into NA\n",
    "raw_product_data.replace(['(not set)', 'Single Option Only'], np.nan, inplace = True)\n",
    "\n",
    "# NA fields will not contribute anything to the product description\n",
    "raw_product_data['product_brand'].fillna('', inplace = True)\n",
    "raw_product_data['product_variant'].fillna('', inplace = True)\n",
    "raw_product_data['product_category'].fillna('', inplace = True)\n",
    "raw_product_data['product_name'].fillna('', inplace = True)\n",
    "\n",
    "# Join product category, brand, name and variant into single string\n",
    "raw_product_data['product_desc'] = raw_product_data.apply(lambda x: ' '.join([x['product_category'], x['product_brand'], x['product_name'], x['product_variant']]), axis = 1)\n",
    "\n",
    "# Resolve price discrepancies by replacing by modal price\n",
    "product_by_id = raw_product_data.groupby(['product_id', 'price_temp'])['days'].sum().reset_index()\n",
    "product_prices = product_by_id.loc[product_by_id.groupby('product_id')['days'].idxmax(), [\"product_id\", \"price_temp\"]]\n",
    "product_prices.rename({\"price_temp\":\"product_price\"}, axis = 1, inplace = True)\n",
    "raw_product_data = raw_product_data.merge(product_prices, how = 'left', on = 'product_id')\n",
    "raw_product_data.drop(['days', 'price_temp'], axis = 1, inplace = True)\n",
    "\n",
    "# Resolve discrepancies in product descriptions by combining descriptions\n",
    "product_df = raw_product_data.groupby(['product_id', 'product_price'])['product_desc'].apply(lambda x: ' '.join(set(x))).reset_index()\n",
    "\n",
    "# Create product df to name dictionary for future reference\n",
    "id_name_df = raw_product_data.groupby('product_id')['product_name'].agg(lambda x: x.mode()[0]).reset_index()\n",
    "# id_name_df.to_csv('../data/id_name_df.csv', index = False)"
   ]
  },
  {
   "cell_type": "code",
   "execution_count": 4,
   "metadata": {},
   "outputs": [],
   "source": [
    "# Tokenize and lemmatize product descriptions\n",
    "lemmatizer = WordNetLemmatizer()\n",
    "stop_words = set(stopwords.words('english'))\n",
    "product_df['tokens'] = product_df['product_desc'].apply(lambda x: word_tokenize(x))\n",
    "\n",
    "def lemmatize(l):\n",
    "    lemmatized = [word.lower() for word in l if word not in stop_words and word.isalpha()]\n",
    "    return [lemmatizer.lemmatize(word) for word in lemmatized]\n",
    "\n",
    "product_df['lemma'] = product_df['tokens'].apply(lambda x: lemmatize(x))"
   ]
  },
  {
   "cell_type": "markdown",
   "metadata": {},
   "source": [
    "To calculate the similarity score of product pairs, we will create embeddings (i.e. vector representations) for each product and calculate cosine similarity as a measure of similarity. The formula for cosine similarity is:\n",
    "$$\n",
    "\\text{cosine similarity} = \\frac{\\mathbf{A} \\cdot \\mathbf{B}}{||\\mathbf{A}|| \\cdot ||\\mathbf{B}||}\n",
    "$$\n",
    "\n",
    "where A and B represent the embeddings for product A and B respectively. \n",
    "\n",
    "Cosine similarity is measured on a scale of 0 to 1, with higher values representing higher similarity."
   ]
  },
  {
   "cell_type": "code",
   "execution_count": 5,
   "metadata": {},
   "outputs": [],
   "source": [
    "# Download and load GloVe embeddings\n",
    "model = api.load('glove-wiki-gigaword-100')"
   ]
  },
  {
   "cell_type": "code",
   "execution_count": 6,
   "metadata": {},
   "outputs": [],
   "source": [
    "# Get vector embedding associated with each product \n",
    "def mean_vector(desc, model, vocab, id_map, vector_dim):\n",
    "    vec = np.zeros(vector_dim)\n",
    "    word_count = 0\n",
    "\n",
    "    for word in desc:\n",
    "        if word in id_map:                      # verify that there is a vector embedding for that word\n",
    "            vec = np.add(vec, model[word])     \n",
    "            word_count += 1\n",
    "    vec = np.divide(vec, word_count)            # find mean of vectors representing words in product description\n",
    "    return np.array(vec)\n",
    "\n",
    "vocab = set(product_df['lemma'].sum())\n",
    "id_map = model.key_to_index\n",
    "corpus = product_df['lemma']\n",
    "product_df['vector'] = product_df.apply(lambda x: mean_vector(x['lemma'], model, vocab, id_map, 100), axis = 1)\n",
    "\n",
    "def similarity(id1, id2):                       # function that will take in 2 product IDs and output similarity score\n",
    "    vec1 = np.array([product_df.loc[product_df['product_id'] == id1, 'vector'].values[0]]) \n",
    "    vec2 = np.array([product_df.loc[product_df['product_id'] == id2, 'vector'].values[0]]) \n",
    "    return cosine_similarity(vec1, vec2)[0][0]"
   ]
  },
  {
   "cell_type": "code",
   "execution_count": 80,
   "metadata": {},
   "outputs": [],
   "source": [
    "# Save a copy of vector embeddings for use in API\n",
    "product_df_save = product_df.copy()\n",
    "product_df_save['vector'] = product_df_save['vector'] .apply(lambda x: np.array2string(x, separator=',')[1:-1])\n",
    "product_df_save = pd.merge(product_df_save, raw_product_data[['product_id', 'product_name']].drop_duplicates())\n",
    "\n",
    "# product_df_save.to_csv(\"../data/product_df.csv\", index = False)"
   ]
  },
  {
   "cell_type": "markdown",
   "metadata": {},
   "source": [
    "## Exploratory data analysis"
   ]
  },
  {
   "cell_type": "markdown",
   "metadata": {},
   "source": [
    "We first examine the shopping behaviours of visiters by looking at the composition of each basket purchased. In this case, we will define a  basket as all the items bought by a single visitor during a single visit. This allows us to factor for visitors who may make multiple transactions in the same visit as they forgot to purchase certain items."
   ]
  },
  {
   "cell_type": "code",
   "execution_count": 7,
   "metadata": {},
   "outputs": [],
   "source": [
    "query = '''\n",
    "    SELECT DISTINCT\n",
    "        fullVisitorId as user_id\n",
    "        ,visitId as visit_id\n",
    "        -- ,PARSE_DATETIME(\"%Y%m%d %H:%M:%S\", CONCAT(date, ' ' ,hour,':',minute,':00')) AS purchase_date\n",
    "        ,product.productSKU AS product_id\n",
    "        -- ,product.v2ProductName AS product_name\n",
    "        -- ,product.v2ProductCategory AS product_category\n",
    "        ,product.productPrice/1000000 AS product_price\n",
    "        -- ,product.productQuantity AS product_qty\n",
    "    FROM `bigquery-public-data.google_analytics_sample.ga_sessions_*`,\n",
    "        UNNEST(hits) AS hits\n",
    "    LEFT JOIN UNNEST(hits.product) AS product ON TRUE\n",
    "    WHERE true\n",
    "        and hits.eCommerceAction.action_type  = '6'\n",
    "        and product.productQuantity > 0\n",
    "'''\n",
    "\n",
    "rows = client.query(query)\n",
    "all_purchases = rows.to_dataframe()\n",
    "\n",
    "all_purchases['basket_id'] = all_purchases.groupby(['user_id', 'visit_id']).ngroup()\n",
    "basket_df = all_purchases['basket_id'].value_counts().reset_index(name = 'unique_items_in_basket')\n",
    "all_purchases = all_purchases.merge(basket_df, on = 'basket_id', how = 'left')"
   ]
  },
  {
   "cell_type": "markdown",
   "metadata": {},
   "source": [
    "85% of visiters buy up to 5 unique products, though a majority buy only 1 or 2."
   ]
  },
  {
   "cell_type": "code",
   "execution_count": 34,
   "metadata": {},
   "outputs": [
    {
     "name": "stdout",
     "output_type": "stream",
     "text": [
      "   unique_items_in_basket    cumsum\n",
      "0                       1  0.367186\n",
      "1                       2  0.579134\n",
      "2                       3  0.710736\n",
      "3                       4  0.801299\n",
      "4                       5  0.858268\n"
     ]
    },
    {
     "data": {
      "text/plain": [
       "Text(0.5, 1.0, 'Cumulative line plot of number of unique items per checkout')"
      ]
     },
     "execution_count": 34,
     "metadata": {},
     "output_type": "execute_result"
    },
    {
     "data": {
      "image/png": "[encoded data removed]",
      "text/plain": [
       "<Figure size 640x480 with 1 Axes>"
      ]
     },
     "metadata": {},
     "output_type": "display_data"
    }
   ],
   "source": [
    "basket_item_cnt_df = basket_df['unique_items_in_basket'].value_counts().reset_index()\n",
    "basket_item_cnt_df['prop'] = basket_item_cnt_df['count']/basket_item_cnt_df['count'].sum()\n",
    "basket_item_cnt_df['cumsum'] = basket_item_cnt_df['prop'].cumsum()\n",
    "\n",
    "print(basket_item_cnt_df[['unique_items_in_basket', 'cumsum']].head())\n",
    "\n",
    "sns.lineplot(data = basket_item_cnt_df, x = 'unique_items_in_basket', y = 'cumsum')\n",
    "plt.xlabel('Number of items per checkout')\n",
    "plt.title('Cumulative line plot of number of unique items per checkout')"
   ]
  },
  {
   "cell_type": "markdown",
   "metadata": {},
   "source": [
    "Among those that buy 2 or more unique products, the price range tends to be quite small. "
   ]
  },
  {
   "cell_type": "code",
   "execution_count": 35,
   "metadata": {},
   "outputs": [
    {
     "data": {
      "text/plain": [
       "Text(0.5, 1.0, 'Histogram of price ranges')"
      ]
     },
     "execution_count": 35,
     "metadata": {},
     "output_type": "execute_result"
    },
    {
     "data": {
      "image/png": "[encoded data removed]",
      "text/plain": [
       "<Figure size 640x480 with 1 Axes>"
      ]
     },
     "metadata": {},
     "output_type": "display_data"
    }
   ],
   "source": [
    "max_price = all_purchases.loc[all_purchases['unique_items_in_basket'] > 1].groupby('basket_id')['product_price'].max().reset_index()\n",
    "min_price = all_purchases.loc[all_purchases['unique_items_in_basket'] > 1].groupby('basket_id')['product_price'].min().reset_index()\n",
    "basket_price_range = max_price.merge(min_price, on = 'basket_id', how = 'left', suffixes = ['_max', '_min'])\n",
    "basket_price_range['range'] = basket_price_range['product_price_max'] - basket_price_range['product_price_min']\n",
    "sns.histplot(basket_price_range['range'], stat = 'proportion', binwidth = 5)\n",
    "plt.xlabel('Price range within basket')\n",
    "plt.title('Histogram of price ranges')"
   ]
  },
  {
   "cell_type": "markdown",
   "metadata": {},
   "source": [
    "The mean similarity scores between all product pairs in a basket follows a slightly right-skewed bell-shaped distribution. The average score is 0.73 with a median of 0.72, indicating that products within a basket tend to be rather similar."
   ]
  },
  {
   "cell_type": "code",
   "execution_count": null,
   "metadata": {},
   "outputs": [],
   "source": [
    "def mean_similarity(basket_id):\n",
    "    sum_score = 0\n",
    "    pair_cnt = 0\n",
    "    df = all_purchases.loc[all_purchases['basket_id'] == basket_id]\n",
    "    for i in range(len(df)):\n",
    "        product1 = df.iloc[i]['product_id']\n",
    "        for j in range(i + 1, len(df)):\n",
    "            product2 = df.iloc[j]['product_id']\n",
    "            sim = similarity(product1, product2)\n",
    "            sum_score += sim\n",
    "            pair_cnt += 1\n",
    "    return sum_score/pair_cnt\n",
    "\n",
    "basket_ids = all_purchases.loc[all_purchases['unique_items_in_basket'] > 1]['basket_id'].unique().tolist()\n",
    "mean_similarity_scores = [mean_similarity(x) for x in basket_ids]\n",
    "\n",
    "basket_similarity = pd.DataFrame(list(zip(basket_ids, mean_similarity_scores)), columns = ['basket_id', 'mean_similarity_score'])"
   ]
  },
  {
   "cell_type": "code",
   "execution_count": 37,
   "metadata": {},
   "outputs": [
    {
     "name": "stdout",
     "output_type": "stream",
     "text": [
      "Mean: 0.7273395994812951, median: 0.711706408067435\n"
     ]
    },
    {
     "data": {
      "text/plain": [
       "Text(0.5, 1.0, 'Histogram of mean similarity scores')"
      ]
     },
     "execution_count": 37,
     "metadata": {},
     "output_type": "execute_result"
    },
    {
     "data": {
      "image/png": "[encoded data removed]",
      "text/plain": [
       "<Figure size 640x480 with 1 Axes>"
      ]
     },
     "metadata": {},
     "output_type": "display_data"
    }
   ],
   "source": [
    "print(f\"Mean: {basket_similarity['mean_similarity_score'].mean()}, median: {basket_similarity['mean_similarity_score'].median()}\")\n",
    "\n",
    "sns.histplot(basket_similarity['mean_similarity_score'])\n",
    "plt.xlabel('Mean similarity score of products within basket')\n",
    "plt.title('Histogram of mean similarity scores')"
   ]
  },
  {
   "cell_type": "markdown",
   "metadata": {},
   "source": [
    "Zooming in on repeat customers, we can also examine the types of products that users like to buy on their second visit - do they tend to return for similar products, or are they trying something new?"
   ]
  },
  {
   "cell_type": "code",
   "execution_count": 9,
   "metadata": {},
   "outputs": [],
   "source": [
    "query = '''\n",
    "    WITH buyers as (\n",
    "    SELECT DISTINCT\n",
    "        fullVisitorId as user_id\n",
    "        ,visitId as visit_id\n",
    "        ,DATE_TRUNC(PARSE_DATETIME(\"%Y%m%d %H:%M:%S\", CONCAT(date, ' ' ,hour,':',minute,':00')), day) AS purchase_date\n",
    "        ,product.productSKU AS product_id\n",
    "        ,product.productPrice/1000000 AS product_price\n",
    "    FROM `bigquery-public-data.google_analytics_sample.ga_sessions_*`,\n",
    "        UNNEST(hits) AS hits\n",
    "    LEFT JOIN UNNEST(hits.product) AS product ON TRUE\n",
    "    WHERE true\n",
    "        and hits.eCommerceAction.action_type  = '6'\n",
    "        and product.productQuantity > 0\n",
    ")\n",
    "\n",
    "    ,order_purchases AS(\n",
    "        SELECT user_id\n",
    "            ,purchase_date\n",
    "            ,visit_id\n",
    "            ,ROW_NUMBER() OVER (\n",
    "                PARTITION BY user_id\n",
    "                ORDER BY min(purchase_date)) purchase_cnt\n",
    "    FROM buyers\n",
    "    GROUP BY 1,2,3\n",
    "    ORDER BY 1, 2, 3\n",
    "    )\n",
    "\n",
    "    ,second_purchase AS(\n",
    "        SELECT distinct\n",
    "            user_id\n",
    "            ,visit_id\n",
    "            ,purchase_date\n",
    "            ,product_id\n",
    "            ,product_price\n",
    "        FROM order_purchases\n",
    "        LEFT JOIN buyers USING (user_id, visit_id, purchase_date)\n",
    "        WHERE purchase_cnt = 2\n",
    "        ORDER BY 1,2\n",
    "    )\n",
    "\n",
    "    SELECT \n",
    "        user_id \n",
    "        ,buyers.visit_id as first_purchase_visit_id\n",
    "        ,buyers.purchase_date as first_purchase_date\n",
    "        ,buyers.product_id as first_purchase_product_id\n",
    "        ,buyers.product_price as first_purchase_price\n",
    "        ,sp.visit_id as second_purchase_visit_id\n",
    "        ,sp.purchase_date as second_purchase_date\n",
    "        ,sp.product_id as second_purchase_product_id\n",
    "        ,sp.product_price as second_purchase_price\n",
    "    FROM order_purchases op\n",
    "    LEFT JOIN buyers using (user_id, visit_id, purchase_date)\n",
    "    LEFT JOIN second_purchase sp USING (user_id)\n",
    "    WHERE op.purchase_cnt = 1\n",
    "        AND sp.visit_id is not null\n",
    "    ORDER BY 1,2, 3    \n",
    "'''\n",
    "\n",
    "rows = client.query(query)\n",
    "first_two_purchases = rows.to_dataframe()"
   ]
  },
  {
   "cell_type": "markdown",
   "metadata": {},
   "source": [
    "Between the first and second basket, the least similar product in the second basket follows a similar distribution as before. This means that returning shoppers do are also not very adventurous."
   ]
  },
  {
   "cell_type": "code",
   "execution_count": 10,
   "metadata": {},
   "outputs": [
    {
     "name": "stdout",
     "output_type": "stream",
     "text": [
      "Mean: 0.7410681290246892, median: 0.7306556377656538\n"
     ]
    },
    {
     "data": {
      "text/plain": [
       "Text(0.5, 1.0, 'Lowest similarity score in second basket')"
      ]
     },
     "execution_count": 10,
     "metadata": {},
     "output_type": "execute_result"
    },
    {
     "data": {
      "image/png": "[encoded data removed]",
      "text/plain": [
       "<Figure size 640x480 with 1 Axes>"
      ]
     },
     "metadata": {},
     "output_type": "display_data"
    }
   ],
   "source": [
    "first_two_purchases['similarity'] = first_two_purchases.apply(lambda x: similarity(x['first_purchase_product_id'], x['second_purchase_product_id']), axis = 1)\n",
    "second_purchase_similarity = first_two_purchases.groupby(['user_id', 'second_purchase_product_id'])['similarity'].agg( 'max').reset_index()\n",
    "lowest_second_purchase = second_purchase_similarity.groupby(['user_id'])['similarity'].agg('min').reset_index()\n",
    "print(f'Mean: {lowest_second_purchase['similarity'].mean()}, median: {lowest_second_purchase['similarity'].median()}')\n",
    "plt.hist(lowest_second_purchase['similarity'], bins = 10)\n",
    "plt.xticks(np.arange(0, 1, 0.1))\n",
    "plt.ylabel('Count')\n",
    "plt.xlabel('Similarity score')\n",
    "plt.title('Lowest similarity score in second basket')"
   ]
  },
  {
   "cell_type": "markdown",
   "metadata": {},
   "source": [
    "Based on our analysis of product quantity, price range and product similarity within baskets, we can conclude that visitors like to buy a **small number of products per visit** and **do not shop very diversely**.\n",
    "\n",
    "This suggests that to increase customer retention and drive product sales, we should try to **promote products that are closely related to each other**."
   ]
  },
  {
   "cell_type": "markdown",
   "metadata": {},
   "source": [
    "## Upselling"
   ]
  },
  {
   "cell_type": "markdown",
   "metadata": {},
   "source": [
    "Upselling can be integrated into the e-commerce website by showing ads for products that are similar to the ones that the user has expressed interest in. This can be in the form of a click, view, impression or add-to-cart action. Since we have discovered that users like to buy similar items during repeat purchases, these can also be advertised to them during future visits.\n",
    "<br>\n",
    "<br>\n",
    "We can find the most similar products for a given product by filtering based on cosine similarity score and only selecting products that are more expensive. The similarity score threshold was set at 0.8, following Guo et al (2021)."
   ]
  },
  {
   "cell_type": "code",
   "execution_count": 40,
   "metadata": {},
   "outputs": [
    {
     "data": {
      "text/plain": [
       "array(['GGOEGADJ059416', 'GGOEGADJ059415', 'GGOEGADJ059414',\n",
       "       'GGOEGADJ059413', 'GGOEGAAX0594', 'GGOEGADC059516', 'GGOEGAAX0595',\n",
       "       'GGOEGADJ057117', 'GGOEGADJ057116', 'GGOEGADJ057118'], dtype=object)"
      ]
     },
     "execution_count": 40,
     "metadata": {},
     "output_type": "execute_result"
    }
   ],
   "source": [
    "def upsell(id, lim = -1):                                    # this function will output the top x most similar products to a given product, where x is defined by the user.\n",
    "    mat = np.vstack(product_df['vector'])                                                       # embeddings for each product\n",
    "    base_vec = np.array([product_df.loc[product_df['product_id'] == id, 'vector'].values[0]])   # embedding for queried product\n",
    "    cos_sim = cosine_similarity(base_vec, mat).flatten()                                        # find cosine similarity between queried product and all other products\n",
    "\n",
    "    df = product_df.copy()\n",
    "    df['similarity'] = cos_sim\n",
    "    df.drop(['tokens', 'lemma', 'vector'], axis = 1, inplace = True)\n",
    "    curr_price = df.loc[df['product_id'] == id, 'product_price'].values[0]                      # obtain price of current product\n",
    "    df = df.loc[df['product_id'] != id]\n",
    "\n",
    "    # print(f'Current item is sold for {curr_price}')\n",
    "    if lim != -1:\n",
    "        return df.sort_values('similarity', ascending = False).loc[(df['product_id'] != id) & (df['product_price'] > curr_price) & (df['similarity'] > 0.8), 'product_id'].values[:lim]  # only return products that are more expensive\n",
    "    else:\n",
    "        return df.sort_values('similarity', ascending = False).loc[(df['product_id'] != id) & (df['product_price'] > curr_price) & (df['similarity'] > 0.8), 'product_id'].values\n",
    "\n",
    "#Example\n",
    "upsell('GGOEGADJ059417', 10)\n"
   ]
  },
  {
   "cell_type": "markdown",
   "metadata": {},
   "source": [
    "## Crossselling"
   ]
  },
  {
   "cell_type": "markdown",
   "metadata": {},
   "source": [
    "Similar to upselling, crossselling can be integrated into the website through display ads. However, it should only be implemented once a user has placed an item in their basket, as the association rules developed are prefaced on the first item being purchased. Recommendations for complementary products can be used to reactivate churned customers by sending users advertising emails the list of complementary after they have completed the purchase (e.g. 'Other items you might like'), or when there are discounts on complementary products.\n",
    "\n",
    "To determine which products are complementary with each other, we can perform Market Basket Analysis (MBA) on the baskets of buyers who purchase more than 1 item at a time. We will be using the Apriori algorithm to generate association rules; this involves calculating 3 metrics:\n",
    "- Support: How often an item/itemset is bought\n",
    "- Confidence (of A to B): How likely item B is bought when item A is bought\n",
    "- Lift (of A to B): Confidence of A to B, while adjusting for popularity of B alone\n",
    "\n",
    "Following Dogan (2023), we will only be considering pairs with minimum support 0.0005 and minimum confidence 0.35. We adjusted the confidence threshold from Dogan's 0.45 to broaden the number of associated pairs, which were otherwise quite low. This is in line with Aguinis et al. (2013), who recommends tailoring the thresholds based on the problem."
   ]
  },
  {
   "cell_type": "code",
   "execution_count": 41,
   "metadata": {},
   "outputs": [],
   "source": [
    "# Calculate confidence and lift of all product pairs\n",
    "\n",
    "basket_product_matrix = pd.pivot_table(all_purchases, index='basket_id', columns='product_id', aggfunc='size', fill_value=0)\n",
    "basket_product_matrix - (basket_product_matrix > 0).astype(int)\n",
    "total_baskets = all_purchases['basket_id'].nunique()\n",
    "product_ids = basket_product_matrix.columns\n",
    "\n",
    "confidence_scores = []\n",
    "for product1 in product_ids:\n",
    "    baskets1 = basket_product_matrix[product1]\n",
    "\n",
    "    for product2 in product_ids:\n",
    "        baskets2 = basket_product_matrix[product2]\n",
    "        overlap = ((baskets1 == 1) & (baskets2 == 1))\n",
    "        if (overlap.sum()/total_baskets) > 0.0005 and baskets1.sum() != 0 and overlap.sum() != 0:\n",
    "            confidence = (overlap.sum() / baskets1.sum())\n",
    "            lift = (overlap.sum() / ((baskets1.sum() * baskets2.sum())/total_baskets)) if baskets2.sum() != 0 else 0\n",
    "        else:\n",
    "            confidence = 0\n",
    "            lift = 0\n",
    "        confidence_scores.append((product1, product2, confidence, lift))\n",
    "\n",
    "confidence_df = pd.DataFrame(confidence_scores, columns=['product_1', 'product_2', 'confidence','lift'])\n",
    "associated_items = confidence_df.loc[(confidence_df['confidence'] > 0.35) & (confidence_df['product_1'] != confidence_df['product_2']) ]\n",
    "associated_items['similarity'] = associated_items.apply(lambda x: similarity(x['product_1'], x['product_2']), axis = 1)"
   ]
  },
  {
   "cell_type": "code",
   "execution_count": 83,
   "metadata": {},
   "outputs": [],
   "source": [
    "# associated_items.to_csv(../data/crosssell.csv\", index = False)"
   ]
  },
  {
   "cell_type": "markdown",
   "metadata": {},
   "source": [
    "We should also check the lift of the itemsets we have identified. A lift value < 1 suggests that buying product A will dissuade people from buying product B, which we want to avoid. Thankfully, it seems that of the itemsets with confidence >35%, none have lift < 1. This means that we do not need to further filter our list of itemsets frequently bought together."
   ]
  },
  {
   "cell_type": "code",
   "execution_count": 339,
   "metadata": {},
   "outputs": [
    {
     "data": {
      "text/plain": [
       "0"
      ]
     },
     "execution_count": 339,
     "metadata": {},
     "output_type": "execute_result"
    }
   ],
   "source": [
    "len(associated_items.loc[associated_items['lift'] < 1])"
   ]
  },
  {
   "cell_type": "markdown",
   "metadata": {},
   "source": [
    "Looking at the similarity score of identified cross-selling pairs, it seems that most products bought together are quite similar. Since most similarity scores are near the average basket simiarity score of 0.72, there seems to be no need to further filter this list."
   ]
  },
  {
   "cell_type": "code",
   "execution_count": 57,
   "metadata": {},
   "outputs": [
    {
     "data": {
      "text/html": [
       "<div>\n",
       "<style scoped>\n",
       "    .dataframe tbody tr th:only-of-type {\n",
       "        vertical-align: middle;\n",
       "    }\n",
       "\n",
       "    .dataframe tbody tr th {\n",
       "        vertical-align: top;\n",
       "    }\n",
       "\n",
       "    .dataframe thead th {\n",
       "        text-align: right;\n",
       "    }\n",
       "</style>\n",
       "<table border=\"1\" class=\"dataframe\">\n",
       "  <thead>\n",
       "    <tr style=\"text-align: right;\">\n",
       "      <th></th>\n",
       "      <th>product_1</th>\n",
       "      <th>product_2</th>\n",
       "      <th>confidence</th>\n",
       "      <th>lift</th>\n",
       "      <th>similarity</th>\n",
       "    </tr>\n",
       "  </thead>\n",
       "  <tbody>\n",
       "    <tr>\n",
       "      <th>1251020</th>\n",
       "      <td>GGOEYHPA003610</td>\n",
       "      <td>GGOEYFKQ020699</td>\n",
       "      <td>0.393939</td>\n",
       "      <td>12.889518</td>\n",
       "      <td>0.692216</td>\n",
       "    </tr>\n",
       "    <tr>\n",
       "      <th>1116259</th>\n",
       "      <td>GGOEGPXR023199</td>\n",
       "      <td>GGOEGPJC203399</td>\n",
       "      <td>0.360000</td>\n",
       "      <td>25.509202</td>\n",
       "      <td>0.702602</td>\n",
       "    </tr>\n",
       "    <tr>\n",
       "      <th>1036528</th>\n",
       "      <td>GGOEGFKQ020799</td>\n",
       "      <td>GGOEGFKQ020399</td>\n",
       "      <td>0.395745</td>\n",
       "      <td>5.845078</td>\n",
       "      <td>0.778372</td>\n",
       "    </tr>\n",
       "    <tr>\n",
       "      <th>195028</th>\n",
       "      <td>GGOEAFKQ020599</td>\n",
       "      <td>GGOEGFKQ020399</td>\n",
       "      <td>0.514286</td>\n",
       "      <td>7.595908</td>\n",
       "      <td>0.789736</td>\n",
       "    </tr>\n",
       "    <tr>\n",
       "      <th>1034284</th>\n",
       "      <td>GGOEGFKA022299</td>\n",
       "      <td>GGOEGFKQ020399</td>\n",
       "      <td>0.413978</td>\n",
       "      <td>6.114388</td>\n",
       "      <td>0.794227</td>\n",
       "    </tr>\n",
       "    <tr>\n",
       "      <th>1027549</th>\n",
       "      <td>GGOEGEVB070899</td>\n",
       "      <td>GGOEGEVR014999</td>\n",
       "      <td>0.368421</td>\n",
       "      <td>36.061552</td>\n",
       "      <td>0.819481</td>\n",
       "    </tr>\n",
       "    <tr>\n",
       "      <th>457059</th>\n",
       "      <td>GGOEGAEB084517</td>\n",
       "      <td>GGOEGAEB084515</td>\n",
       "      <td>0.405405</td>\n",
       "      <td>45.023389</td>\n",
       "      <td>0.824266</td>\n",
       "    </tr>\n",
       "    <tr>\n",
       "      <th>193906</th>\n",
       "      <td>GGOEAFKQ020499</td>\n",
       "      <td>GGOEGFKQ020399</td>\n",
       "      <td>0.395556</td>\n",
       "      <td>5.842285</td>\n",
       "      <td>0.851456</td>\n",
       "    </tr>\n",
       "  </tbody>\n",
       "</table>\n",
       "</div>"
      ],
      "text/plain": [
       "              product_1       product_2  confidence       lift  similarity\n",
       "1251020  GGOEYHPA003610  GGOEYFKQ020699    0.393939  12.889518    0.692216\n",
       "1116259  GGOEGPXR023199  GGOEGPJC203399    0.360000  25.509202    0.702602\n",
       "1036528  GGOEGFKQ020799  GGOEGFKQ020399    0.395745   5.845078    0.778372\n",
       "195028   GGOEAFKQ020599  GGOEGFKQ020399    0.514286   7.595908    0.789736\n",
       "1034284  GGOEGFKA022299  GGOEGFKQ020399    0.413978   6.114388    0.794227\n",
       "1027549  GGOEGEVB070899  GGOEGEVR014999    0.368421  36.061552    0.819481\n",
       "457059   GGOEGAEB084517  GGOEGAEB084515    0.405405  45.023389    0.824266\n",
       "193906   GGOEAFKQ020499  GGOEGFKQ020399    0.395556   5.842285    0.851456"
      ]
     },
     "execution_count": 57,
     "metadata": {},
     "output_type": "execute_result"
    }
   ],
   "source": [
    "associated_items['similarity'] = associated_items.apply(lambda x: similarity(x['product_1'], x['product_2']), axis = 1)\n",
    "associated_items.sort_values('similarity').head(8)"
   ]
  },
  {
   "cell_type": "code",
   "execution_count": 58,
   "metadata": {},
   "outputs": [
    {
     "data": {
      "text/plain": [
       "array(['GGOEGHGR019499', 'GGOEGHGC019799', 'GGOEGHGT019599'], dtype=object)"
      ]
     },
     "execution_count": 58,
     "metadata": {},
     "output_type": "execute_result"
    }
   ],
   "source": [
    "def crosssell(id, lim = -1):          # This function takes in a product and returns the top n associated products (confidence >35%)\n",
    "    if id not in associated_items['product_1'].values:\n",
    "        return 'There are no associated items for this product'     # If there are no associated items, a message will be printed alerting the user\n",
    "    if lim != -1:\n",
    "        return associated_items.sort_values('similarity', ascending = False).loc[associated_items['product_1'] == id, 'product_2'].values[:lim]\n",
    "    else:\n",
    "        return associated_items.sort_values('similarity', ascending = False).loc[associated_items['product_1'] == id, 'product_2'].values\n",
    "\n",
    "# Example\n",
    "crosssell('GGOEGHGH019699')"
   ]
  },
  {
   "cell_type": "markdown",
   "metadata": {},
   "source": [
    "Unfortunately, there are not many associated pairs of items that meet the minimum confidence threshold of 0.35. This is likely due to the fact that customers tend to only buy 1 item per basket, which limits the size of the training data. Ideally, this crossselling strategy will increase the number of items bought per basket, which will provide more data and allow for more association rules to be built."
   ]
  },
  {
   "cell_type": "code",
   "execution_count": 59,
   "metadata": {},
   "outputs": [
    {
     "data": {
      "text/plain": [
       "42"
      ]
     },
     "execution_count": 59,
     "metadata": {},
     "output_type": "execute_result"
    }
   ],
   "source": [
    "len(associated_items)"
   ]
  },
  {
   "cell_type": "markdown",
   "metadata": {},
   "source": [
    "## Personalisation"
   ]
  },
  {
   "cell_type": "markdown",
   "metadata": {},
   "source": [
    "We can personalise our recommendations by tracking all the products that a user has expressed interest in (view/add to cart/checkout/purchase)."
   ]
  },
  {
   "cell_type": "code",
   "execution_count": 63,
   "metadata": {},
   "outputs": [],
   "source": [
    "query = '''\n",
    "    SELECT DISTINCT\n",
    "    fullVisitorId as user_id\n",
    "    ,product.productSKU AS product_id\n",
    "    FROM `bigquery-public-data.google_analytics_sample.ga_sessions_*`,\n",
    "    UNNEST(hits) AS hits\n",
    "    LEFT JOIN UNNEST(hits.product) AS product ON TRUE\n",
    "    WHERE true\n",
    "    and hits.eCommerceAction.action_type in ('2','3','5','6')\n",
    "'''\n",
    "rows = client.query(query)\n",
    "user_history = rows.to_dataframe()"
   ]
  },
  {
   "cell_type": "code",
   "execution_count": 64,
   "metadata": {},
   "outputs": [],
   "source": [
    "user_history = user_history.dropna()"
   ]
  },
  {
   "cell_type": "code",
   "execution_count": 49,
   "metadata": {},
   "outputs": [],
   "source": [
    "# user_history.to_csv(\"../data/user_history.csv\", index = False)"
   ]
  },
  {
   "cell_type": "code",
   "execution_count": 93,
   "metadata": {},
   "outputs": [
    {
     "data": {
      "text/plain": [
       "([],\n",
       " ['GGOEGAAX0588',\n",
       "  'GGOEGAAX0569',\n",
       "  'GGOEGAAX0578',\n",
       "  'GGOEGAAX0567',\n",
       "  'GGOEGAAX0570'])"
      ]
     },
     "execution_count": 93,
     "metadata": {},
     "output_type": "execute_result"
    }
   ],
   "source": [
    "# input: user id, number of products to crosssell and number of products to upsell\n",
    "# output: two lists, with products to crosssell and another with products to upsell\n",
    "def products_to_recommend(id, n_crosssell, n_upsell):           \n",
    "    user_products = user_history.loc[user_history['user_id'] == str(id), 'product_id'].values\n",
    "    crosssell_final = []\n",
    "    upsell_final = []\n",
    "\n",
    "    for product in user_products:\n",
    "        crosssell_products = crosssell(product)\n",
    "        if type(crosssell_products) != str:\n",
    "            crosssell_final.extend(crosssell_products)\n",
    "        upsell_products = upsell(product)\n",
    "        if len(upsell_products) > 0:\n",
    "            upsell_final.extend(upsell_products)\n",
    "\n",
    "    crosssell_count = Counter(crosssell_final)\n",
    "    upsell_count = Counter(upsell_final)\n",
    "\n",
    "    return [x[0] for x in crosssell_count.most_common(n_crosssell)], [y[0] for y in upsell_count.most_common(n_upsell)]\n",
    "\n",
    "# example\n",
    "products_to_recommend('7311242886083854158', 3, 5)"
   ]
  },
  {
   "cell_type": "markdown",
   "metadata": {},
   "source": [
    "## References"
   ]
  },
  {
   "cell_type": "markdown",
   "metadata": {},
   "source": [
    "Aguinis, H., Forcum, L. E., & Joo, H. (2013). Using market basket analysis in management research. *Journal of Management, 39*(7). https://hermanaguinis.com/pdf/JOMMBA.pdf\n",
    "\n",
    "Dogan, O. (2023). A recommendation system in e-commerce with profit-support fuzzy association rule mining (P-FARM). *Journal of Theoretical and Applied Electronic Commerce Research, 18*(2), 831–847. https://doi.org/10.3390/jtaer18020043\n",
    "\n",
    "Gaurav, P. (2023). Step by step content-based recommendation system. Medium. https://medium.com/@prateekgaurav/step-by-step-content-based-recommendation-system-823bbfd0541c\n",
    "\n",
    "Guo, M. Yan, N., Cui, X., Wu, S. H., Ahsan, U., West, R. & Al Jaddah, K. (2021). Deep Learning-based Online Alternative Product\n",
    "Recommendations at Scale. https://doi.org/10.48550/arXiv.2104.07572 "
   ]
  }
 ],
 "metadata": {
  "kernelspec": {
   "display_name": "dsa3101",
   "language": "python",
   "name": "python3"
  },
  "language_info": {
   "codemirror_mode": {
    "name": "ipython",
    "version": 3
   },
   "file_extension": ".py",
   "mimetype": "text/x-python",
   "name": "python",
   "nbconvert_exporter": "python",
   "pygments_lexer": "ipython3",
   "version": "3.12.2"
  }
 },
 "nbformat": 4,
 "nbformat_minor": 2
}
