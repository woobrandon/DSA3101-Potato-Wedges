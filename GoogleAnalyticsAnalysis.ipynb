{
 "cells": [
  {
   "cell_type": "code",
   "execution_count": 2,
   "metadata": {},
   "outputs": [],
   "source": [
    "from google.cloud import bigquery\n",
    "import pandas as pd\n",
    "pd.set_option('display.width', 1000)\n",
    "\n",
    "# Change the project name here to your project name in your account\n",
    "client = bigquery.Client(project=\"sturdy-cable-435110-g9\")"
   ]
  },
  {
   "cell_type": "markdown",
   "metadata": {},
   "source": [
    "# Q1\n"
   ]
  },
  {
   "cell_type": "markdown",
   "metadata": {},
   "source": [
    "What are the key factors influencing customer purchasing behavior?\n",
    "\n",
    "- Analyze historical sales data to identify patterns and trends.\n",
    "- <strong>Develop customer segmentation models based on purchasing behavior. (Not done)</strong>\n"
   ]
  },
  {
   "cell_type": "markdown",
   "metadata": {},
   "source": [
    "## Google Analytics\n"
   ]
  },
  {
   "cell_type": "markdown",
   "metadata": {},
   "source": [
    "### Exit rate by page title\n"
   ]
  },
  {
   "cell_type": "code",
   "execution_count": 6,
   "metadata": {},
   "outputs": [
    {
     "name": "stderr",
     "output_type": "stream",
     "text": [
      "/opt/anaconda3/lib/python3.11/site-packages/google/cloud/bigquery/table.py:1727: UserWarning: BigQuery Storage module not found, fetch data with the REST endpoint instead.\n",
      "  warnings.warn(\n"
     ]
    },
    {
     "name": "stdout",
     "output_type": "stream",
     "text": [
      "                                           PageTitle   Views  ExitRate\n",
      "0                                               Home  630465  0.164693\n",
      "1                                Google Online Store  393684  0.510486\n",
      "2                                      Shopping Cart  209266  0.020534\n",
      "3  YouTube | Shop by Brand | Google Merchandise S...  157715  0.283683\n",
      "4              The Google Merchandise Store - Log In  117629  0.050243\n",
      "5  Men's T-Shirts | Apparel | Google Merchandise ...  101866  0.120570\n",
      "6                               Store search results   78035  0.025322\n",
      "7  Men's Outerwear | Apparel | Google Merchandise...   56217  0.057829\n",
      "8        Backpacks | Bags | Google Merchandise Store   53449  0.017493\n",
      "9                 Apparel | Google Merchandise Store   51610  0.048983 \n",
      "\n"
     ]
    }
   ],
   "source": [
    "# Exit rate by pages\n",
    "query = f\"\"\"\n",
    "        SELECT hits.page.pageTitle as PageTitle, COUNT(*) AS Views, SUM(totals.bounces)/COUNT(*) AS ExitRate\n",
    "        FROM `bigquery-public-data.google_analytics_sample.ga_sessions_*`, UNNEST(hits) AS hits\n",
    "        WHERE hits.type='PAGE'\n",
    "        GROUP BY PageTitle\n",
    "        ORDER BY Views DESC\n",
    "        LIMIT 10\n",
    "        \"\"\"\n",
    "\n",
    "rows = client.query(query)\n",
    "\n",
    "result_df = rows.to_dataframe()\n",
    "\n",
    "print(result_df, \"\\n\")"
   ]
  },
  {
   "cell_type": "markdown",
   "metadata": {},
   "source": [
    "Exit rates are the lowest when items from a specific category are being displayed\n"
   ]
  },
  {
   "cell_type": "markdown",
   "metadata": {},
   "source": [
    "### Bounce rates by PageTitle\n"
   ]
  },
  {
   "cell_type": "code",
   "execution_count": 4,
   "metadata": {},
   "outputs": [
    {
     "name": "stderr",
     "output_type": "stream",
     "text": [
      "/opt/anaconda3/lib/python3.11/site-packages/google/cloud/bigquery/table.py:1727: UserWarning: BigQuery Storage module not found, fetch data with the REST endpoint instead.\n",
      "  warnings.warn(\n"
     ]
    },
    {
     "name": "stdout",
     "output_type": "stream",
     "text": [
      "                                           PageTitle   Views  BounceRate\n",
      "0                                Google Online Store  339352    0.592002\n",
      "1                                               Home  275170    0.374627\n",
      "2  YouTube | Shop by Brand | Google Merchandise S...   79314    0.563873\n",
      "3  Men's T-Shirts | Apparel | Google Merchandise ...   26342    0.465758\n",
      "4              The Google Merchandise Store - Log In   16321    0.361191\n",
      "5                                   Page Unavailable   15965    0.404447\n",
      "6                                      Shopping Cart    9428    0.454709\n",
      "7  Men's Outerwear | Apparel | Google Merchandise...    7439    0.436618\n",
      "8                    Bags | Google Merchandise Store    6928    0.460450\n",
      "9               Drinkware | Google Merchandise Store    6834    0.557799 \n",
      "\n"
     ]
    }
   ],
   "source": [
    "# Bounce rate by pages\n",
    "query = f\"\"\"\n",
    "        SELECT hits.page.pageTitle AS PageTitle, COUNT(*) AS Views, SUM(totals.bounces)/COUNT(*) AS BounceRate\n",
    "        FROM `bigquery-public-data.google_analytics_sample.ga_sessions_*`, UNNEST(hits) as hits\n",
    "        WHERE hits.type = 'PAGE' AND hits.hitNumber = 1\n",
    "        GROUP BY PageTitle\n",
    "        ORDER BY Views DESC\n",
    "        LIMIT 10\n",
    "        \"\"\"\n",
    "rows = client.query(query)\n",
    "\n",
    "result_df = rows.to_dataframe()\n",
    "\n",
    "print(result_df, \"\\n\")"
   ]
  },
  {
   "cell_type": "markdown",
   "metadata": {},
   "source": [
    "# Q2\n"
   ]
  },
  {
   "cell_type": "markdown",
   "metadata": {},
   "source": [
    "How can we improve customer retention and lifetime value?\n",
    "\n",
    "- Calculate customer churn rates and identify at-risk customers.\n",
    "- <strong>Analyze the effectiveness of current retention strategies. (Not done)</strong>\n"
   ]
  },
  {
   "cell_type": "markdown",
   "metadata": {},
   "source": [
    "## Google Analytics\n"
   ]
  },
  {
   "cell_type": "code",
   "execution_count": 22,
   "metadata": {},
   "outputs": [
    {
     "name": "stderr",
     "output_type": "stream",
     "text": [
      "/opt/anaconda3/lib/python3.11/site-packages/google/cloud/bigquery/table.py:1727: UserWarning: BigQuery Storage module not found, fetch data with the REST endpoint instead.\n",
      "  warnings.warn(\n"
     ]
    },
    {
     "name": "stdout",
     "output_type": "stream",
     "text": [
      "   visitorId  visitNumber     visitId  visitStartTime      date                                             totals                                      trafficSource                                             device                                         geoNetwork                          customDimensions                                               hits        fullVisitorId userId clientId channelGrouping  socialEngagementType\n",
      "0       <NA>            1  1496349083      1496349083  20170601  {'visits': 1, 'hits': 1, 'pageviews': 1, 'time...  {'referralPath': '/analytics/web/', 'campaign'...  {'browser': 'Chrome', 'browserVersion': 'not a...  {'continent': 'Americas', 'subContinent': 'Nor...  [{'index': 4, 'value': 'North America'}]  [{'hitNumber': 1, 'time': 0, 'hour': 13, 'minu...  7098605923794129706   None     None        Referral  Not Socially Engaged\n",
      "1       <NA>            2  1496385154      1496385154  20170601  {'visits': 1, 'hits': 1, 'pageviews': 1, 'time...  {'referralPath': '/analytics/web/', 'campaign'...  {'browser': 'Chrome', 'browserVersion': 'not a...  {'continent': 'Europe', 'subContinent': 'Easte...           [{'index': 4, 'value': 'EMEA'}]  [{'hitNumber': 1, 'time': 0, 'hour': 23, 'minu...  2763743650833834318   None     None        Referral  Not Socially Engaged\n",
      "2       <NA>            3  1496328581      1496328581  20170601  {'visits': 1, 'hits': 1, 'pageviews': 1, 'time...  {'referralPath': None, 'campaign': '(not set)'...  {'browser': 'Chrome', 'browserVersion': 'not a...  {'continent': 'Americas', 'subContinent': 'Nor...  [{'index': 4, 'value': 'North America'}]  [{'hitNumber': 1, 'time': 0, 'hour': 7, 'minut...    70628321730549473   None     None          Direct  Not Socially Engaged\n",
      "3       <NA>           11  1496345589      1496345589  20170601  {'visits': 1, 'hits': 1, 'pageviews': 1, 'time...  {'referralPath': None, 'campaign': '(not set)'...  {'browser': 'Chrome', 'browserVersion': 'not a...  {'continent': 'Americas', 'subContinent': 'Nor...  [{'index': 4, 'value': 'North America'}]  [{'hitNumber': 1, 'time': 0, 'hour': 12, 'minu...  0579308821705392125   None     None  Organic Search  Not Socially Engaged\n",
      "4       <NA>            3  1496340150      1496340150  20170601  {'visits': 1, 'hits': 1, 'pageviews': 1, 'time...  {'referralPath': None, 'campaign': '(not set)'...  {'browser': 'Safari', 'browserVersion': 'not a...  {'continent': 'Americas', 'subContinent': 'Nor...  [{'index': 4, 'value': 'North America'}]  [{'hitNumber': 1, 'time': 0, 'hour': 11, 'minu...  7539371185355488322   None     None          Direct  Not Socially Engaged\n",
      "5       <NA>            1  1496381587      1496381587  20170601  {'visits': 1, 'hits': 1, 'pageviews': 1, 'time...  {'referralPath': None, 'campaign': '(not set)'...  {'browser': 'Safari', 'browserVersion': 'not a...  {'continent': 'Asia', 'subContinent': 'Western...           [{'index': 4, 'value': 'EMEA'}]  [{'hitNumber': 1, 'time': 0, 'hour': 22, 'minu...   661674589958843932   None     None          Direct  Not Socially Engaged\n",
      "6       <NA>            2  1496354661      1496354661  20170601  {'visits': 1, 'hits': 1, 'pageviews': 1, 'time...  {'referralPath': None, 'campaign': '(not set)'...  {'browser': 'Chrome', 'browserVersion': 'not a...  {'continent': 'Americas', 'subContinent': 'Nor...  [{'index': 4, 'value': 'North America'}]  [{'hitNumber': 1, 'time': 0, 'hour': 15, 'minu...   324352534718802183   None     None  Organic Search  Not Socially Engaged\n",
      "7       <NA>            2  1496376499      1496376499  20170601  {'visits': 1, 'hits': 1, 'pageviews': 1, 'time...  {'referralPath': None, 'campaign': '(not set)'...  {'browser': 'Safari', 'browserVersion': 'not a...  {'continent': 'Americas', 'subContinent': 'Nor...  [{'index': 4, 'value': 'North America'}]  [{'hitNumber': 1, 'time': 0, 'hour': 21, 'minu...  6286367036456502562   None     None  Organic Search  Not Socially Engaged\n",
      "8       <NA>            2  1496326702      1496326702  20170601  {'visits': 1, 'hits': 1, 'pageviews': 1, 'time...  {'referralPath': '/offer/2145', 'campaign': '(...  {'browser': 'Chrome', 'browserVersion': 'not a...  {'continent': 'Americas', 'subContinent': 'Nor...  [{'index': 4, 'value': 'North America'}]  [{'hitNumber': 1, 'time': 0, 'hour': 7, 'minut...  2964771671368352472   None     None        Referral  Not Socially Engaged\n",
      "9       <NA>            1  1496313389      1496313389  20170601  {'visits': 1, 'hits': 1, 'pageviews': 1, 'time...  {'referralPath': None, 'campaign': '(not set)'...  {'browser': 'Chrome', 'browserVersion': 'not a...  {'continent': 'Asia', 'subContinent': 'Western...           [{'index': 4, 'value': 'EMEA'}]  [{'hitNumber': 1, 'time': 0, 'hour': 3, 'minut...  5519930931021614796   None     None          Direct  Not Socially Engaged\n"
     ]
    }
   ],
   "source": [
    "query = \"\"\"\n",
    "    SELECT *\n",
    "    FROM `bigquery-public-data.google_analytics_sample.ga_sessions_*`\n",
    "    LIMIT 10\n",
    "\"\"\"\n",
    "\n",
    "# Execute the query\n",
    "query_job = client.query(query)\n",
    "\n",
    "# Convert the results to a DataFrame\n",
    "result_df = query_job.to_dataframe()\n",
    "\n",
    "# Get and print the column names\n",
    "columns = result_df.columns.tolist()  # Convert Index to list for easier reading\n",
    "print(result_df)\n"
   ]
  },
  {
   "cell_type": "code",
   "execution_count": 5,
   "metadata": {},
   "outputs": [
    {
     "name": "stderr",
     "output_type": "stream",
     "text": [
      "/opt/anaconda3/lib/python3.11/site-packages/google/cloud/bigquery/table.py:1727: UserWarning: BigQuery Storage module not found, fetch data with the REST endpoint instead.\n",
      "  warnings.warn(\n"
     ]
    },
    {
     "name": "stdout",
     "output_type": "stream",
     "text": [
      "         fullVisitorID         Channel  TotalRevenue  CustomerPurchaseCount TrafficSource\n",
      "0  8851822767477687842        Referral   30878760000                     96      (direct)\n",
      "1   666582393118140484        Referral   20600080000                     68      (direct)\n",
      "2  3033366073043100694        Referral   11512000000                     60      (direct)\n",
      "3  5689475961693395998        Referral   15128780000                     54      (direct)\n",
      "4  9377429831454005466  Organic Search   20728520000                     52        google\n",
      "5  8436426603099391262        Referral   37197920000                     52      (direct)\n",
      "6  5632276788326171571          Direct  673375500000                     42      (direct)\n",
      "7  2854722262909538790  Organic Search    4431400000                     40        google\n",
      "8  6374969976921419865          Direct    7172800000                     40      (direct)\n",
      "9  0780206376162514125        Referral   20200000000                     40      (direct) \n",
      "\n"
     ]
    }
   ],
   "source": [
    "query = f\"\"\"\n",
    "        SELECT\n",
    "            fullVisitorID,\n",
    "            channelGrouping AS Channel,\n",
    "            SUM(totals.totalTransactionRevenue) AS TotalRevenue,\n",
    "            COUNT(fullVisitorID) AS CustomerPurchaseCount,\n",
    "            trafficSource.source AS TrafficSource,\n",
    "        FROM\n",
    "            `bigquery-public-data.google_analytics_sample.ga_sessions_*`,\n",
    "            UNNEST(hits) AS hits,\n",
    "            UNNEST(hits.product) AS product\n",
    "        WHERE\n",
    "            _TABLE_SUFFIX BETWEEN '20160901' AND '20160930' AND\n",
    "            hits.eCommerceAction.action_type = '6'\n",
    "        GROUP BY fullVisitorID, Channel, TrafficSource\n",
    "        ORDER BY CustomerPurchaseCount DESC\n",
    "        LIMIT 10\n",
    "        \"\"\"\n",
    "\n",
    "rows = client.query(query)\n",
    "\n",
    "result_df = rows.to_dataframe()\n",
    "\n",
    "print(result_df, \"\\n\")"
   ]
  },
  {
   "cell_type": "markdown",
   "metadata": {},
   "source": [
    "The most popular channel that is used by customers with a high purchase count\n"
   ]
  },
  {
   "cell_type": "code",
   "execution_count": 81,
   "metadata": {},
   "outputs": [
    {
     "name": "stdout",
     "output_type": "stream",
     "text": [
      "             Date        fullVisitorID  DailyPurchaseCount  OneMonthMA  LowerBound  LowerBoundOneMonthLag  HistoricPurchases\n",
      "408    2016-08-01  5760753352577829144                  79    2.633333    2.633333                    0.0                 79\n",
      "717    2016-08-01  6569605994631186947                  36    1.200000    1.200000                    0.0                 36\n",
      "80     2016-08-01  2125540555068339394                  25    0.833333    0.833333                    0.0                 25\n",
      "432    2016-08-01  7589137567725941774                  51    1.700000    1.700000                    0.0                 51\n",
      "756    2016-08-01  5563168194966233133                  21    0.700000    0.700000                    0.0                 21\n",
      "...           ...                  ...                 ...         ...         ...                    ...                ...\n",
      "834084 2017-08-01   024507252193437459                  16    0.533333    0.406213                    0.0                 16\n",
      "835321 2017-08-01  5199370466032130686                   0    0.866667    0.428464                    0.0                 26\n",
      "834618 2017-08-01  3614707430894059857                  28    0.933333    0.933333                    0.0                 28\n",
      "833186 2017-08-01  9591202457292182670                  20    0.666667    0.157052                    0.0                 20\n",
      "834208 2017-08-01  2422865366235727605                   0    3.400000    1.680899                    0.0                102\n",
      "\n",
      "[10022 rows x 7 columns] \n",
      "\n"
     ]
    },
    {
     "name": "stderr",
     "output_type": "stream",
     "text": [
      "/var/folders/lj/tfjxb4wd4kx1kwshmxnt57840000gn/T/ipykernel_33309/253609387.py:103: RuntimeWarning: Engine has switched to 'python' because numexpr does not support extension array dtypes. Please set your engine to python manually.\n",
      "  how='left').query(\"HistoricPurchases > 0\")\n"
     ]
    }
   ],
   "source": [
    "# https://medium.com/octave-john-keells-group/a-simple-six-step-approach-to-define-customer-churn-in-retail-f401e31e57c0#:~:text=Identifying%20the%20point%20in%20which,time%20to%20proactively%20implement%20interventions.&text=Step%206%3A,is%20identified%20as%20a%20churner.\n",
    "query = f\"\"\"\n",
    "        -- Compute the Number of purchases made by each visitor in a day\n",
    "        -- NULL transaction means that there are no transactions made\n",
    "        WITH DailyPurchases AS (\n",
    "            SELECT\n",
    "                PARSE_DATE('%Y%m%d', _TABLE_SUFFIX) AS Date,\n",
    "                fullVisitorID,\n",
    "                SUM(IF(totals.transactions IS NOT NULL, totals.transactions, 0)) AS DailyPurchaseCount\n",
    "            FROM\n",
    "                `bigquery-public-data.google_analytics_sample.ga_sessions_*`,\n",
    "                UNNEST(hits) AS hits\n",
    "            GROUP BY\n",
    "                Date,\n",
    "                fullVisitorID\n",
    "        ),\n",
    "        -- Compute the 30 Day Moving Average and the 90 Day Moving Average STD\n",
    "        MovingAverages AS (\n",
    "            SELECT\n",
    "                Date,\n",
    "                fullVisitorID,\n",
    "                DailyPurchaseCount,\n",
    "                COALESCE(\n",
    "                    SUM(DailyPurchaseCount) OVER (\n",
    "                        PARTITION BY fullVisitorID\n",
    "                        ORDER BY Date\n",
    "                        ROWS BETWEEN 29 PRECEDING AND CURRENT ROW\n",
    "                    )/30, 0\n",
    "                ) AS OneMonthMA,\n",
    "                COALESCE(\n",
    "                    STDDEV(DailyPurchaseCount) OVER (\n",
    "                        PARTITION BY fullVisitorID\n",
    "                        ORDER BY Date\n",
    "                        ROWS BETWEEN 89 PRECEDING AND CURRENT ROW\n",
    "                    ) * (COUNT(DailyPurchaseCount) OVER (\n",
    "                        PARTITION BY fullVisitorID\n",
    "                        ORDER BY Date\n",
    "                        ROWS BETWEEN 89 PRECEDING AND CURRENT ROW\n",
    "                    ) - 1) / 89, 0\n",
    "                ) AS ThreeMonthSTDMA\n",
    "            FROM\n",
    "                DailyPurchases\n",
    "        ),\n",
    "        -- Find the threshold at which the customer is considered at risk of retention\n",
    "        Threshold AS (\n",
    "            SELECT\n",
    "                Date,\n",
    "                fullVisitorID,\n",
    "                DailyPurchaseCount,\n",
    "                OneMonthMA,\n",
    "                (OneMonthMA - ThreeMonthSTDMA) AS LowerBound\n",
    "            FROM\n",
    "                MovingAverages\n",
    "        ),\n",
    "        -- Lag the threshold by 30 Days and the visitor should not be considered at risk immediately\n",
    "        LaggingThreshold AS (\n",
    "            SELECT\n",
    "                Date,\n",
    "                fullVisitorID,\n",
    "                DailyPurchaseCount,\n",
    "                OneMonthMA,\n",
    "                LowerBound,\n",
    "                COALESCE(\n",
    "                    LAG(LowerBound, 29) OVER (PARTITION BY fullVisitorID ORDER BY Date), 0\n",
    "                ) AS LowerBoundOneMonthLag\n",
    "            FROM\n",
    "                Threshold\n",
    "            ORDER BY\n",
    "                Date\n",
    "        ),\n",
    "        -- Select only the latest date for each visitor and check for their churn status\n",
    "        RankedDates AS (\n",
    "            SELECT\n",
    "                Date,\n",
    "                fullVisitorID,\n",
    "                DailyPurchaseCount,\n",
    "                OneMonthMA,\n",
    "                LowerBound,\n",
    "                LowerBoundOneMonthLag,\n",
    "                ROW_NUMBER() OVER (\n",
    "                    PARTITION BY fullVisitorID\n",
    "                    ORDER BY Date DESC\n",
    "                ) AS rn\n",
    "            FROM LaggingThreshold\n",
    "        )\n",
    "\n",
    "        SELECT Date, fullVisitorID, DailyPurchaseCount, OneMonthMA, LowerBound, LowerBoundOneMonthLag\n",
    "        FROM RankedDates\n",
    "        ORDER BY Date\n",
    "        \"\"\"\n",
    "\n",
    "rows = client.query(query)\n",
    "\n",
    "result_df = rows.to_dataframe()\n",
    "\n",
    "grouped_sum = result_df.groupby('fullVisitorID')[\n",
    "    'DailyPurchaseCount'].sum().reset_index()\n",
    "\n",
    "grouped_sum = grouped_sum.rename(\n",
    "    columns={'DailyPurchaseCount': 'HistoricPurchases'})\n",
    "\n",
    "df = result_df.merge(grouped_sum, on='fullVisitorID',\n",
    "                     how='left').query(\"HistoricPurchases > 0\")\n",
    "\n",
    "df['Date'] = pd.to_datetime(df['Date'])\n",
    "\n",
    "latest_idx = df.groupby('fullVisitorID')['Date'].idxmax()\n",
    "\n",
    "result_df = df.loc[latest_idx].sort_values(by=\"Date\")\n",
    "\n",
    "print(result_df, \"\\n\")"
   ]
  },
  {
   "cell_type": "code",
   "execution_count": 82,
   "metadata": {},
   "outputs": [
    {
     "data": {
      "text/html": [
       "<div>\n",
       "<style scoped>\n",
       "    .dataframe tbody tr th:only-of-type {\n",
       "        vertical-align: middle;\n",
       "    }\n",
       "\n",
       "    .dataframe tbody tr th {\n",
       "        vertical-align: top;\n",
       "    }\n",
       "\n",
       "    .dataframe thead th {\n",
       "        text-align: right;\n",
       "    }\n",
       "</style>\n",
       "<table border=\"1\" class=\"dataframe\">\n",
       "  <thead>\n",
       "    <tr style=\"text-align: right;\">\n",
       "      <th></th>\n",
       "      <th>Date</th>\n",
       "      <th>fullVisitorID</th>\n",
       "      <th>DailyPurchaseCount</th>\n",
       "      <th>OneMonthMA</th>\n",
       "      <th>LowerBound</th>\n",
       "      <th>LowerBoundOneMonthLag</th>\n",
       "      <th>HistoricPurchases</th>\n",
       "    </tr>\n",
       "  </thead>\n",
       "  <tbody>\n",
       "    <tr>\n",
       "      <th>650611</th>\n",
       "      <td>2017-05-01</td>\n",
       "      <td>536428604379922267</td>\n",
       "      <td>22</td>\n",
       "      <td>0.733333</td>\n",
       "      <td>0.733333</td>\n",
       "      <td>0.0</td>\n",
       "      <td>22</td>\n",
       "    </tr>\n",
       "    <tr>\n",
       "      <th>651870</th>\n",
       "      <td>2017-05-01</td>\n",
       "      <td>1749853719127085935</td>\n",
       "      <td>13</td>\n",
       "      <td>0.433333</td>\n",
       "      <td>0.433333</td>\n",
       "      <td>0.0</td>\n",
       "      <td>13</td>\n",
       "    </tr>\n",
       "    <tr>\n",
       "      <th>650822</th>\n",
       "      <td>2017-05-01</td>\n",
       "      <td>9740050408987139130</td>\n",
       "      <td>19</td>\n",
       "      <td>0.633333</td>\n",
       "      <td>0.633333</td>\n",
       "      <td>0.0</td>\n",
       "      <td>19</td>\n",
       "    </tr>\n",
       "    <tr>\n",
       "      <th>650153</th>\n",
       "      <td>2017-05-01</td>\n",
       "      <td>9565722193439879038</td>\n",
       "      <td>11</td>\n",
       "      <td>0.366667</td>\n",
       "      <td>0.279271</td>\n",
       "      <td>0.0</td>\n",
       "      <td>11</td>\n",
       "    </tr>\n",
       "    <tr>\n",
       "      <th>650942</th>\n",
       "      <td>2017-05-01</td>\n",
       "      <td>4501448098783068461</td>\n",
       "      <td>22</td>\n",
       "      <td>2.466667</td>\n",
       "      <td>1.636650</td>\n",
       "      <td>0.0</td>\n",
       "      <td>74</td>\n",
       "    </tr>\n",
       "    <tr>\n",
       "      <th>...</th>\n",
       "      <td>...</td>\n",
       "      <td>...</td>\n",
       "      <td>...</td>\n",
       "      <td>...</td>\n",
       "      <td>...</td>\n",
       "      <td>...</td>\n",
       "      <td>...</td>\n",
       "    </tr>\n",
       "    <tr>\n",
       "      <th>834084</th>\n",
       "      <td>2017-08-01</td>\n",
       "      <td>024507252193437459</td>\n",
       "      <td>16</td>\n",
       "      <td>0.533333</td>\n",
       "      <td>0.406213</td>\n",
       "      <td>0.0</td>\n",
       "      <td>16</td>\n",
       "    </tr>\n",
       "    <tr>\n",
       "      <th>835321</th>\n",
       "      <td>2017-08-01</td>\n",
       "      <td>5199370466032130686</td>\n",
       "      <td>0</td>\n",
       "      <td>0.866667</td>\n",
       "      <td>0.428464</td>\n",
       "      <td>0.0</td>\n",
       "      <td>26</td>\n",
       "    </tr>\n",
       "    <tr>\n",
       "      <th>834618</th>\n",
       "      <td>2017-08-01</td>\n",
       "      <td>3614707430894059857</td>\n",
       "      <td>28</td>\n",
       "      <td>0.933333</td>\n",
       "      <td>0.933333</td>\n",
       "      <td>0.0</td>\n",
       "      <td>28</td>\n",
       "    </tr>\n",
       "    <tr>\n",
       "      <th>833186</th>\n",
       "      <td>2017-08-01</td>\n",
       "      <td>9591202457292182670</td>\n",
       "      <td>20</td>\n",
       "      <td>0.666667</td>\n",
       "      <td>0.157052</td>\n",
       "      <td>0.0</td>\n",
       "      <td>20</td>\n",
       "    </tr>\n",
       "    <tr>\n",
       "      <th>834208</th>\n",
       "      <td>2017-08-01</td>\n",
       "      <td>2422865366235727605</td>\n",
       "      <td>0</td>\n",
       "      <td>3.400000</td>\n",
       "      <td>1.680899</td>\n",
       "      <td>0.0</td>\n",
       "      <td>102</td>\n",
       "    </tr>\n",
       "  </tbody>\n",
       "</table>\n",
       "<p>3100 rows × 7 columns</p>\n",
       "</div>"
      ],
      "text/plain": [
       "             Date        fullVisitorID  DailyPurchaseCount  OneMonthMA  LowerBound  LowerBoundOneMonthLag  HistoricPurchases\n",
       "650611 2017-05-01   536428604379922267                  22    0.733333    0.733333                    0.0                 22\n",
       "651870 2017-05-01  1749853719127085935                  13    0.433333    0.433333                    0.0                 13\n",
       "650822 2017-05-01  9740050408987139130                  19    0.633333    0.633333                    0.0                 19\n",
       "650153 2017-05-01  9565722193439879038                  11    0.366667    0.279271                    0.0                 11\n",
       "650942 2017-05-01  4501448098783068461                  22    2.466667    1.636650                    0.0                 74\n",
       "...           ...                  ...                 ...         ...         ...                    ...                ...\n",
       "834084 2017-08-01   024507252193437459                  16    0.533333    0.406213                    0.0                 16\n",
       "835321 2017-08-01  5199370466032130686                   0    0.866667    0.428464                    0.0                 26\n",
       "834618 2017-08-01  3614707430894059857                  28    0.933333    0.933333                    0.0                 28\n",
       "833186 2017-08-01  9591202457292182670                  20    0.666667    0.157052                    0.0                 20\n",
       "834208 2017-08-01  2422865366235727605                   0    3.400000    1.680899                    0.0                102\n",
       "\n",
       "[3100 rows x 7 columns]"
      ]
     },
     "execution_count": 82,
     "metadata": {},
     "output_type": "execute_result"
    }
   ],
   "source": [
    "# Those that have not made a purchase within the last 3 months or have a monthly moving average less than the lower bound have a retention risk\n",
    "max_date = result_df['Date'].max()\n",
    "three_months_ago = max_date - pd.DateOffset(months=3)\n",
    "RetentionRiskCount = len(set(result_df.query(\n",
    "    \"Date <= @three_months_ago | LowerBoundOneMonthLag >= OneMonthMA\").fullVisitorID))\n",
    "\n",
    "# Those that have made a purchase within the last 3 months or have a monthly moving average more than the lower bound do not have a retention risk\n",
    "RetentionCount = len(set(result_df.query(\n",
    "    \"@three_months_ago <= Date <= @max_date & LowerBoundOneMonthLag < OneMonthMA\").fullVisitorID))\n",
    "\n",
    "\n",
    "result_df.query(\n",
    "    \"@three_months_ago <= Date <= @max_date & LowerBoundOneMonthLag < OneMonthMA\")"
   ]
  },
  {
   "cell_type": "markdown",
   "metadata": {},
   "source": [
    "These are the at risk customers as the lagged lower bound is greater or equal to their one month moving average on purchase count\n"
   ]
  },
  {
   "cell_type": "code",
   "execution_count": 9,
   "metadata": {},
   "outputs": [
    {
     "name": "stdout",
     "output_type": "stream",
     "text": [
      "          Channel  Transactions  Transactions_Pct\n",
      "0        Referral          4419         43.154297\n",
      "1  Organic Search          2360         23.046875\n",
      "2         Display          1668         16.289062\n",
      "3          Direct          1455         14.208984\n",
      "4     Paid Search           239          2.333984\n",
      "5          Social            96          0.937500\n",
      "6      Affiliates             3          0.029297\n",
      "7         (Other)             0          0.000000 \n",
      "\n"
     ]
    }
   ],
   "source": [
    "query = f\"\"\"\n",
    "        -- Compute the Number of purchases made by each visitor in a day\n",
    "        -- NULL transaction means that there are no transactions made\n",
    "        WITH DailyPurchases AS (\n",
    "            SELECT\n",
    "                PARSE_DATE('%Y%m%d', _TABLE_SUFFIX) AS Date,\n",
    "                fullVisitorID,\n",
    "                SUM(IF(totals.transactions IS NOT NULL, totals.transactions, 0)) AS DailyPurchaseCount\n",
    "            FROM\n",
    "                `bigquery-public-data.google_analytics_sample.ga_sessions_*`,\n",
    "                UNNEST(hits) AS hits\n",
    "            GROUP BY\n",
    "                Date,\n",
    "                fullVisitorID\n",
    "        ),\n",
    "        -- Compute the 30 Day Moving Average and the 90 Day Moving Average STD\n",
    "        MovingAverages AS (\n",
    "            SELECT\n",
    "                Date,\n",
    "                fullVisitorID,\n",
    "                DailyPurchaseCount,\n",
    "                COALESCE(\n",
    "                    SUM(DailyPurchaseCount) OVER (\n",
    "                        PARTITION BY fullVisitorID\n",
    "                        ORDER BY Date\n",
    "                        ROWS BETWEEN 29 PRECEDING AND CURRENT ROW\n",
    "                    )/30, 0\n",
    "                ) AS OneMonthMA,\n",
    "                COALESCE(\n",
    "                    STDDEV(DailyPurchaseCount) OVER (\n",
    "                        PARTITION BY fullVisitorID\n",
    "                        ORDER BY Date\n",
    "                        ROWS BETWEEN 89 PRECEDING AND CURRENT ROW\n",
    "                    ) * (COUNT(DailyPurchaseCount) OVER (\n",
    "                        PARTITION BY fullVisitorID\n",
    "                        ORDER BY Date\n",
    "                        ROWS BETWEEN 89 PRECEDING AND CURRENT ROW\n",
    "                    ) - 1) / 89, 0\n",
    "                ) AS ThreeMonthSTDMA\n",
    "            FROM\n",
    "                DailyPurchases\n",
    "        ),\n",
    "        -- Find the threshold at which the customer is considered at risk of retention\n",
    "        Threshold AS (\n",
    "            SELECT\n",
    "                Date,\n",
    "                fullVisitorID,\n",
    "                DailyPurchaseCount,\n",
    "                OneMonthMA,\n",
    "                (OneMonthMA - ThreeMonthSTDMA) AS LowerBound\n",
    "            FROM\n",
    "                MovingAverages\n",
    "        ),\n",
    "        -- Lag the threshold by 30 Days and the visitor should not be considered at risk immediately\n",
    "        LaggingThreshold AS (\n",
    "            SELECT\n",
    "                Date,\n",
    "                fullVisitorID,\n",
    "                DailyPurchaseCount,\n",
    "                OneMonthMA,\n",
    "                LowerBound,\n",
    "                COALESCE(\n",
    "                    LAG(LowerBound, 29) OVER (PARTITION BY fullVisitorID ORDER BY Date), 0\n",
    "                ) AS LowerBoundOneMonthLag\n",
    "            FROM\n",
    "                Threshold\n",
    "            ORDER BY\n",
    "                Date\n",
    "        ),\n",
    "        -- Find the channels used by those with a retention risk: Less than threshold or have not purchased within the last 3 months\n",
    "        RetentionRisk AS (\n",
    "            SELECT\n",
    "                channelGrouping AS Channel,\n",
    "                SUM(IF(totals.transactions IS NOT NULL, totals.transactions, 0)) AS Transactions\n",
    "            FROM\n",
    "                `bigquery-public-data.google_analytics_sample.ga_sessions_*` df\n",
    "            RIGHT JOIN\n",
    "                LaggingThreshold lt\n",
    "            ON\n",
    "                df.fullVisitorID = lt.fullVisitorID\n",
    "            WHERE\n",
    "                lt.LowerBoundOneMonthLag >= lt.OneMonthMA AND lt.Date < (SELECT MAX(Date) FROM LaggingThreshold) - INTERVAL 3 MONTH\n",
    "            GROUP BY\n",
    "                Channel\n",
    "        ),\n",
    "        TotalTransactions AS (\n",
    "            SELECT\n",
    "                SUM(Transactions) AS Total\n",
    "            FROM\n",
    "                RetentionRisk\n",
    "        )\n",
    "\n",
    "        SELECT\n",
    "            Channel,\n",
    "            Transactions,\n",
    "            (Transactions / TotalTransactions.Total) * 100 AS Transactions_Pct\n",
    "        FROM\n",
    "            RetentionRisk,\n",
    "            TotalTransactions\n",
    "        ORDER BY\n",
    "            Transactions_Pct DESC\n",
    "        \"\"\"\n",
    "\n",
    "rows = client.query(query)\n",
    "\n",
    "result_df = rows.to_dataframe()\n",
    "\n",
    "print(result_df, \"\\n\")"
   ]
  },
  {
   "cell_type": "markdown",
   "metadata": {},
   "source": [
    "Overview of channels used by those who do not have a retention risk\n"
   ]
  },
  {
   "cell_type": "code",
   "execution_count": 8,
   "metadata": {},
   "outputs": [
    {
     "name": "stdout",
     "output_type": "stream",
     "text": [
      "          Channel  Transactions  Transactions_Pct\n",
      "0        Referral          3695         39.812520\n",
      "1          Direct          2193         23.628919\n",
      "2  Organic Search          2133         22.982437\n",
      "3         Display           884          9.524836\n",
      "4     Paid Search           307          3.307833\n",
      "5          Social            63          0.678806\n",
      "6      Affiliates             6          0.064648\n",
      "7         (Other)             0          0.000000 \n",
      "\n"
     ]
    }
   ],
   "source": [
    "query = f\"\"\"\n",
    "        -- Compute the Number of purchases made by each visitor in a day\n",
    "        -- NULL transaction means that there are no transactions made\n",
    "        WITH DailyPurchases AS (\n",
    "            SELECT\n",
    "                PARSE_DATE('%Y%m%d', _TABLE_SUFFIX) AS Date,\n",
    "                fullVisitorID,\n",
    "                SUM(IF(totals.transactions IS NOT NULL, totals.transactions, 0)) AS DailyPurchaseCount\n",
    "            FROM\n",
    "                `bigquery-public-data.google_analytics_sample.ga_sessions_*`,\n",
    "                UNNEST(hits) AS hits\n",
    "            GROUP BY\n",
    "                Date,\n",
    "                fullVisitorID\n",
    "        ),\n",
    "        -- Compute the 30 Day Moving Average and the 90 Day Moving Average STD\n",
    "        MovingAverages AS (\n",
    "            SELECT\n",
    "                Date,\n",
    "                fullVisitorID,\n",
    "                DailyPurchaseCount,\n",
    "                COALESCE(\n",
    "                    SUM(DailyPurchaseCount) OVER (\n",
    "                        PARTITION BY fullVisitorID\n",
    "                        ORDER BY Date\n",
    "                        ROWS BETWEEN 29 PRECEDING AND CURRENT ROW\n",
    "                    )/30, 0\n",
    "                ) AS OneMonthMA,\n",
    "                COALESCE(\n",
    "                    STDDEV(DailyPurchaseCount) OVER (\n",
    "                        PARTITION BY fullVisitorID\n",
    "                        ORDER BY Date\n",
    "                        ROWS BETWEEN 89 PRECEDING AND CURRENT ROW\n",
    "                    ) * (COUNT(DailyPurchaseCount) OVER (\n",
    "                        PARTITION BY fullVisitorID\n",
    "                        ORDER BY Date\n",
    "                        ROWS BETWEEN 89 PRECEDING AND CURRENT ROW\n",
    "                    ) - 1) / 89, 0\n",
    "                ) AS ThreeMonthSTDMA\n",
    "            FROM\n",
    "                DailyPurchases\n",
    "        ),\n",
    "        -- Find the threshold at which the customer is considered at risk of retention\n",
    "        Threshold AS (\n",
    "            SELECT\n",
    "                Date,\n",
    "                fullVisitorID,\n",
    "                DailyPurchaseCount,\n",
    "                OneMonthMA,\n",
    "                (OneMonthMA - ThreeMonthSTDMA) AS LowerBound\n",
    "            FROM\n",
    "                MovingAverages\n",
    "        ),\n",
    "        -- Lag the threshold by 30 Days and the visitor should not be considered at risk immediately\n",
    "        LaggingThreshold AS (\n",
    "            SELECT\n",
    "                Date,\n",
    "                fullVisitorID,\n",
    "                DailyPurchaseCount,\n",
    "                OneMonthMA,\n",
    "                LowerBound,\n",
    "                COALESCE(\n",
    "                    LAG(LowerBound, 29) OVER (PARTITION BY fullVisitorID ORDER BY Date), 0\n",
    "                ) AS LowerBoundOneMonthLag\n",
    "            FROM\n",
    "                Threshold\n",
    "            ORDER BY\n",
    "                Date\n",
    "        ),\n",
    "        -- Find the channels used by those without a retention risk: More than threshold or have purchased within the last 3 months\n",
    "        Retention AS (\n",
    "            SELECT\n",
    "                channelGrouping AS Channel,\n",
    "                SUM(IF(totals.transactions IS NOT NULL, totals.transactions, 0)) AS Transactions\n",
    "            FROM\n",
    "                `bigquery-public-data.google_analytics_sample.ga_sessions_*` df\n",
    "            RIGHT JOIN\n",
    "                LaggingThreshold lt\n",
    "            ON\n",
    "                df.fullVisitorID = lt.fullVisitorID\n",
    "            WHERE\n",
    "                lt.LowerBoundOneMonthLag < lt.OneMonthMA AND lt.Date >= (SELECT MAX(Date) FROM LaggingThreshold) - INTERVAL 3 MONTH\n",
    "            GROUP BY\n",
    "                Channel\n",
    "        ),\n",
    "        TotalTransactions AS (\n",
    "            SELECT\n",
    "                SUM(Transactions) AS Total\n",
    "            FROM\n",
    "                Retention\n",
    "        )\n",
    "\n",
    "        SELECT\n",
    "            Channel,\n",
    "            Transactions,\n",
    "            (Transactions / TotalTransactions.Total) * 100 AS Transactions_Pct\n",
    "        FROM\n",
    "            Retention,\n",
    "            TotalTransactions\n",
    "        ORDER BY\n",
    "            Transactions_Pct DESC\n",
    "        \"\"\"\n",
    "\n",
    "rows = client.query(query)\n",
    "\n",
    "result_df = rows.to_dataframe()\n",
    "\n",
    "print(result_df, \"\\n\")"
   ]
  },
  {
   "cell_type": "markdown",
   "metadata": {},
   "source": [
    "Overview of channels used by those who do not have a retention risk\n"
   ]
  },
  {
   "cell_type": "code",
   "execution_count": 83,
   "metadata": {},
   "outputs": [
    {
     "name": "stdout",
     "output_type": "stream",
     "text": [
      "The churn rate for google online store is : 69.27042030134814 % \n",
      "\n"
     ]
    }
   ],
   "source": [
    "ChurnRate = (RetentionRiskCount /\n",
    "             (RetentionRiskCount + RetentionCount)) * 100\n",
    "\n",
    "print(\"The churn rate for google online store is :\", ChurnRate, \"% \\n\")"
   ]
  },
  {
   "cell_type": "code",
   "execution_count": 27,
   "metadata": {},
   "outputs": [
    {
     "name": "stderr",
     "output_type": "stream",
     "text": [
      "/opt/anaconda3/lib/python3.11/site-packages/google/cloud/bigquery/table.py:1727: UserWarning: BigQuery Storage module not found, fetch data with the REST endpoint instead.\n",
      "  warnings.warn(\n"
     ]
    },
    {
     "name": "stdout",
     "output_type": "stream",
     "text": [
      "          fullVisitorId  total_pageviews  avg_time_on_site\n",
      "0   2194592743396253647              647        796.298507\n",
      "1   0824839726118485274              576       2057.542857\n",
      "2   1856749147915772585              556        947.157895\n",
      "3   8851822767477687842              393        992.875000\n",
      "4   4086679804074527652              381       1266.333333\n",
      "..                  ...              ...               ...\n",
      "95   183286922797817588              126        972.500000\n",
      "96  9538778820434741432              125       2066.571429\n",
      "97  4174946983461755352              125       1754.000000\n",
      "98  0003450834640354121              124        853.500000\n",
      "99  3447003791318310120              123       2444.000000\n",
      "\n",
      "[100 rows x 3 columns]\n"
     ]
    }
   ],
   "source": [
    "query = \"\"\"\n",
    "    SELECT \n",
    "        fullVisitorId,\n",
    "        SUM(totals.pageviews) AS total_pageviews,\n",
    "        AVG(totals.timeOnSite) AS avg_time_on_site\n",
    "        FROM `bigquery-public-data.google_analytics_sample.ga_sessions_*`\n",
    "    WHERE \n",
    "        _TABLE_SUFFIX BETWEEN '20160901' AND '20160930'\n",
    "    GROUP BY fullVisitorId\n",
    "    ORDER BY total_pageviews DESC\n",
    "\n",
    "    LIMIT 100;\n",
    "    \"\"\"\n",
    "\n",
    "df = client.query(query).to_dataframe()\n",
    "\n",
    "print(df)\n"
   ]
  },
  {
   "cell_type": "code",
   "execution_count": 35,
   "metadata": {},
   "outputs": [
    {
     "name": "stderr",
     "output_type": "stream",
     "text": [
      "/opt/anaconda3/lib/python3.11/site-packages/google/cloud/bigquery/table.py:1727: UserWarning: BigQuery Storage module not found, fetch data with the REST endpoint instead.\n",
      "  warnings.warn(\n"
     ]
    },
    {
     "name": "stdout",
     "output_type": "stream",
     "text": [
      "        visitId        fullVisitorId      date  visits  pageviews  timeOnSite  transactions  transactionRevenue       source        country deviceCategory  unique_visits  avg_time_on_site  total_transactions  total_revenue\n",
      "0    1474035643  5632276788326171571  20160916       1         89        1486             1         16023750000     (direct)  United States        desktop              1            1486.0                   1    16023750000\n",
      "1    1474965281  4067986469497332117  20160927       1         26        3883             1          3388800000     (direct)          Japan        desktop              1            3883.0                   1     3388800000\n",
      "2    1474931750  1044832976156649069  20160926       1         31        1257             1          2399700000     (direct)         Canada        desktop              1            1257.0                   1     2399700000\n",
      "3    1473950759  3979618861854336423  20160915       1        202        6596             1          1890180000       google  United States        desktop              1            6596.0                   1     1890180000\n",
      "4    1473248855   428994201200499894  20160907       1         27         504             1          1653570000          dfa  United States        desktop              1             504.0                   1     1653570000\n",
      "..          ...                  ...       ...     ...        ...         ...           ...                 ...          ...            ...            ...            ...               ...                 ...            ...\n",
      "995  1474379652  4564967632372320301  20160920       1          2          19          <NA>                <NA>  youtube.com         Taiwan         mobile              1              19.0                <NA>           <NA>\n",
      "996  1474405639  9505150607989388532  20160920       1          2          48          <NA>                <NA>  youtube.com          Spain        desktop              1              48.0                <NA>           <NA>\n",
      "997  1474390447  1090832063077434869  20160920       1          2          54          <NA>                <NA>  youtube.com         Brazil        desktop              1              54.0                <NA>           <NA>\n",
      "998  1474407096  3026079120353298098  20160920       1          2         146          <NA>                <NA>  youtube.com          Italy        desktop              1             146.0                <NA>           <NA>\n",
      "999  1474385892  7863800060890832150  20160920       1          2          56          <NA>                <NA>  youtube.com        Vietnam        desktop              1              56.0                <NA>           <NA>\n",
      "\n",
      "[1000 rows x 15 columns]\n"
     ]
    }
   ],
   "source": [
    "query = \"\"\"\n",
    "SELECT \n",
    "    visitId,\n",
    "    fullVisitorId,\n",
    "    date,\n",
    "    totals.visits,\n",
    "    totals.pageviews,\n",
    "    totals.timeOnSite,\n",
    "    totals.transactions,\n",
    "    totals.transactionRevenue,\n",
    "    trafficSource.source,\n",
    "    geoNetwork.country,\n",
    "    device.deviceCategory,\n",
    "    COUNT(DISTINCT visitId) AS unique_visits,\n",
    "    AVG(totals.timeOnSite) AS avg_time_on_site,\n",
    "    SUM(totals.transactions) AS total_transactions,\n",
    "    SUM(totals.transactionRevenue) AS total_revenue\n",
    "FROM `bigquery-public-data.google_analytics_sample.ga_sessions_*`\n",
    "WHERE _TABLE_SUFFIX BETWEEN '20160901' AND '20160930'\n",
    "GROUP BY \n",
    "    visitId, fullVisitorId, date, totals.visits, totals.pageviews, totals.timeOnSite, totals.transactions, totals.transactionRevenue, trafficSource.source, geoNetwork.country, device.deviceCategory\n",
    "ORDER BY \n",
    "    total_revenue DESC\n",
    "LIMIT 1000\n",
    "\n",
    "\"\"\"\n",
    "\n",
    "rows = client.query(query)\n",
    "\n",
    "result_df = rows.to_dataframe()\n",
    "\n",
    "print(result_df)"
   ]
  },
  {
   "cell_type": "code",
   "execution_count": 36,
   "metadata": {},
   "outputs": [
    {
     "name": "stderr",
     "output_type": "stream",
     "text": [
      "/opt/anaconda3/lib/python3.11/site-packages/google/cloud/bigquery/table.py:1727: UserWarning: BigQuery Storage module not found, fetch data with the REST endpoint instead.\n",
      "  warnings.warn(\n"
     ]
    },
    {
     "name": "stdout",
     "output_type": "stream",
     "text": [
      "           country deviceCategory  avg_visits  avg_transactions   avg_revenue\n",
      "0            Japan        desktop    1.133264               1.0  3.388800e+09\n",
      "1           Canada        desktop    1.401084               1.0  4.599044e+08\n",
      "2           Taiwan        desktop    1.218989               2.0  2.583300e+08\n",
      "3        Hong Kong        desktop    1.243902               1.0  2.396650e+08\n",
      "4      Puerto Rico        desktop    1.120000               1.0  2.249700e+08\n",
      "..             ...            ...         ...               ...           ...\n",
      "399          Malta         mobile    1.000000               NaN           NaN\n",
      "400         Kuwait         tablet    1.000000               NaN           NaN\n",
      "401        Réunion         tablet    1.000000               NaN           NaN\n",
      "402      Hong Kong         tablet    1.000000               NaN           NaN\n",
      "403  French Guiana         mobile    1.000000               NaN           NaN\n",
      "\n",
      "[404 rows x 5 columns]\n"
     ]
    }
   ],
   "source": [
    "query = \"\"\"\n",
    "WITH customer_segments AS (\n",
    "    SELECT \n",
    "        fullVisitorId,\n",
    "        COUNT(DISTINCT visitId) AS visit_count,\n",
    "        AVG(totals.timeOnSite) AS avg_time_on_site,\n",
    "        SUM(totals.transactions) AS total_transactions,\n",
    "        SUM(totals.transactionRevenue) AS total_revenue,\n",
    "        geoNetwork.country,\n",
    "        device.deviceCategory\n",
    "    FROM `bigquery-public-data.google_analytics_sample.ga_sessions_*`\n",
    "    WHERE _TABLE_SUFFIX BETWEEN '20160901' AND '20160930'\n",
    "    GROUP BY \n",
    "        fullVisitorId, geoNetwork.country, device.deviceCategory\n",
    ")\n",
    "SELECT \n",
    "    country,\n",
    "    deviceCategory,\n",
    "    AVG(visit_count) AS avg_visits,\n",
    "    AVG(total_transactions) AS avg_transactions,\n",
    "    AVG(total_revenue) AS avg_revenue\n",
    "FROM \n",
    "    customer_segments\n",
    "GROUP BY \n",
    "    country, deviceCategory\n",
    "ORDER BY \n",
    "    avg_revenue DESC\n",
    "\"\"\"\n",
    "\n",
    "rows = client.query(query)\n",
    "\n",
    "result_df = rows.to_dataframe()\n",
    "\n",
    "print(result_df)"
   ]
  },
  {
   "cell_type": "code",
   "execution_count": 45,
   "metadata": {},
   "outputs": [
    {
     "name": "stderr",
     "output_type": "stream",
     "text": [
      "/opt/anaconda3/lib/python3.11/site-packages/google/cloud/bigquery/table.py:1727: UserWarning: BigQuery Storage module not found, fetch data with the REST endpoint instead.\n",
      "  warnings.warn(\n"
     ]
    },
    {
     "name": "stdout",
     "output_type": "stream",
     "text": [
      "  visitor_type  visitor_count  total_pageviews  avg_time_on_site  avg_bounces\n",
      "0    Returning           8921           105640        413.895152          1.0\n",
      "1          New          55555           221723        235.985886          1.0\n"
     ]
    }
   ],
   "source": [
    "query = \"\"\"\n",
    "SELECT\n",
    "    CASE WHEN totals.newVisits = 1 THEN 'New' ELSE 'Returning' END AS visitor_type,\n",
    "    COUNT(DISTINCT fullVisitorId) AS visitor_count,\n",
    "    SUM(totals.pageviews) AS total_pageviews,\n",
    "    AVG(totals.timeOnSite) AS avg_time_on_site,\n",
    "    AVG(totals.bounces) AS avg_bounces\n",
    "FROM\n",
    "    `bigquery-public-data.google_analytics_sample.ga_sessions_*`\n",
    "WHERE _TABLE_SUFFIX BETWEEN '20160901' AND '20160930'\n",
    "GROUP BY\n",
    "    visitor_type\n",
    "\"\"\"\n",
    "\n",
    "query_job = client.query(query)\n",
    "\n",
    "result_df = query_job.to_dataframe()\n",
    "\n",
    "\n",
    "print(result_df)"
   ]
  },
  {
   "cell_type": "code",
   "execution_count": 48,
   "metadata": {},
   "outputs": [
    {
     "name": "stderr",
     "output_type": "stream",
     "text": [
      "/opt/anaconda3/lib/python3.11/site-packages/google/cloud/bigquery/table.py:1727: UserWarning: BigQuery Storage module not found, fetch data with the REST endpoint instead.\n",
      "  warnings.warn(\n"
     ]
    },
    {
     "name": "stdout",
     "output_type": "stream",
     "text": [
      "         UserType  Sessions  AvgSessionDuration  BounceRate\n",
      "0  Returning User     79806          585.249634    0.398980\n",
      "1        New User     64252          265.122362    0.503969\n"
     ]
    }
   ],
   "source": [
    "query = \"\"\"\n",
    "    WITH UserVisits AS (\n",
    "        SELECT\n",
    "            fullVisitorId,\n",
    "            visitNumber\n",
    "        FROM `bigquery-public-data.google_analytics_sample.ga_sessions_*`\n",
    "        WHERE _TABLE_SUFFIX BETWEEN '20160901' AND '20160930'\n",
    "        GROUP BY fullVisitorId, visitNumber\n",
    "    )\n",
    "\n",
    "    SELECT\n",
    "        CASE\n",
    "            WHEN UserVisits.visitNumber = 1 THEN 'New User'\n",
    "            ELSE 'Returning User'\n",
    "        END AS UserType,\n",
    "        COUNT(*) AS Sessions,\n",
    "        AVG(sessions.totals.timeOnSite) AS AvgSessionDuration,\n",
    "        SUM(sessions.totals.bounces) / COUNT(*) AS BounceRate\n",
    "    FROM `bigquery-public-data.google_analytics_sample.ga_sessions_*` AS sessions\n",
    "    JOIN UserVisits\n",
    "    ON sessions.fullVisitorId = UserVisits.fullVisitorId\n",
    "    WHERE _TABLE_SUFFIX BETWEEN '20160901' AND '20160930'\n",
    "    GROUP BY UserType\n",
    "    ORDER BY Sessions DESC\n",
    "\"\"\"\n",
    "\n",
    "row = client.query(query)\n",
    "\n",
    "result_df = row.to_dataframe()\n",
    "\n",
    "print(result_df)"
   ]
  },
  {
   "cell_type": "code",
   "execution_count": 42,
   "metadata": {},
   "outputs": [
    {
     "name": "stderr",
     "output_type": "stream",
     "text": [
      "/opt/anaconda3/lib/python3.11/site-packages/google/cloud/bigquery/table.py:1727: UserWarning: BigQuery Storage module not found, fetch data with the REST endpoint instead.\n",
      "  warnings.warn(\n"
     ]
    },
    {
     "name": "stdout",
     "output_type": "stream",
     "text": [
      "  deviceCategory  avg_time_on_site  avg_pageviews  avg_bounce_rate\n",
      "0        desktop        283.196537       4.632363              1.0\n",
      "1         mobile        268.329531       4.369049              1.0\n",
      "2         tablet        295.453237       5.385432              1.0\n"
     ]
    }
   ],
   "source": [
    "query = \"\"\"\n",
    "    SELECT\n",
    "        device.deviceCategory,\n",
    "        AVG(totals.timeOnSite) AS avg_time_on_site,\n",
    "        AVG(totals.pageviews) AS avg_pageviews,\n",
    "        AVG(totals.bounces) AS avg_bounce_rate\n",
    "    FROM\n",
    "        `bigquery-public-data.google_analytics_sample.ga_sessions_*`\n",
    "    WHERE \n",
    "        _TABLE_SUFFIX BETWEEN '20160901' AND '20160930'\n",
    "    GROUP BY\n",
    "        device.deviceCategory\n",
    "    \"\"\"\n",
    "\n",
    "rows = client.query(query)\n",
    "\n",
    "result_df = rows.to_dataframe()\n",
    "\n",
    "print(result_df)"
   ]
  },
  {
   "cell_type": "code",
   "execution_count": 46,
   "metadata": {},
   "outputs": [
    {
     "name": "stderr",
     "output_type": "stream",
     "text": [
      "/opt/anaconda3/lib/python3.11/site-packages/google/cloud/bigquery/table.py:1727: UserWarning: BigQuery Storage module not found, fetch data with the REST endpoint instead.\n",
      "  warnings.warn(\n"
     ]
    },
    {
     "name": "stdout",
     "output_type": "stream",
     "text": [
      "             fullVisitorId  total_pageviews  total_hits  avg_time_on_site  total_bounces\n",
      "0      2194592743396253647              647         757        796.298507             19\n",
      "1      0824839726118485274              576         717       2057.542857             10\n",
      "2      1856749147915772585              556         666        947.157895              7\n",
      "3      8851822767477687842              393         557        992.875000              2\n",
      "4      4086679804074527652              381         567       1266.333333           <NA>\n",
      "...                    ...              ...         ...               ...            ...\n",
      "59116   246886865255684914                1           1               NaN              1\n",
      "59117  0670569165766150000                1           1               NaN              1\n",
      "59118  2154708034844551478                1           1               NaN              1\n",
      "59119  1335370086170802517                1           1               NaN              1\n",
      "59120  6272114685180121982             <NA>           1               NaN           <NA>\n",
      "\n",
      "[59121 rows x 5 columns]\n"
     ]
    }
   ],
   "source": [
    "query = \"\"\"\n",
    "    SELECT\n",
    "        fullVisitorId,\n",
    "        SUM(totals.pageviews) AS total_pageviews,\n",
    "        SUM(totals.hits) AS total_hits,\n",
    "        AVG(totals.timeOnSite) AS avg_time_on_site,\n",
    "        SUM(totals.bounces) AS total_bounces\n",
    "    FROM\n",
    "        `bigquery-public-data.google_analytics_sample.ga_sessions_*`\n",
    "    WHERE \n",
    "        _TABLE_SUFFIX BETWEEN '20160901' AND '20160930'\n",
    "    GROUP BY\n",
    "        fullVisitorId\n",
    "    ORDER BY\n",
    "        total_pageviews DESC\n",
    "    \"\"\"\n",
    "\n",
    "rows = client.query(query)\n",
    "\n",
    "result_df = rows.to_dataframe()\n",
    "\n",
    "print(result_df)"
   ]
  },
  {
   "cell_type": "code",
   "execution_count": 49,
   "metadata": {},
   "outputs": [
    {
     "name": "stderr",
     "output_type": "stream",
     "text": [
      "/opt/anaconda3/lib/python3.11/site-packages/google/cloud/bigquery/table.py:1727: UserWarning: BigQuery Storage module not found, fetch data with the REST endpoint instead.\n",
      "  warnings.warn(\n"
     ]
    },
    {
     "name": "stdout",
     "output_type": "stream",
     "text": [
      "             fullVisitorId  total_transactions  total_revenue  avg_revenue_per_transaction\n",
      "0      1957458976293878100                  16    77113430000                 4.819589e+09\n",
      "1      5632276788326171571                   1    16023750000                 1.602375e+10\n",
      "2      9417857471295131045                   5    15170120000                 3.034024e+09\n",
      "3      4471415710206918415                   4    11211100000                 2.802775e+09\n",
      "4      4984366501121503466                  16     9513900000                 5.946188e+08\n",
      "...                    ...                 ...            ...                          ...\n",
      "10017  0628708827036512143                   1           <NA>                          NaN\n",
      "10018  4330494225147030149                   1           <NA>                          NaN\n",
      "10019  4019173914403244131                   1           <NA>                          NaN\n",
      "10020  9137922581159198144                   1           <NA>                          NaN\n",
      "10021  5911716885988565842                   1           <NA>                          NaN\n",
      "\n",
      "[10022 rows x 4 columns]\n"
     ]
    }
   ],
   "source": [
    "query = \"\"\"\n",
    "    SELECT\n",
    "        fullVisitorId,\n",
    "        COUNT(totals.transactions) AS total_transactions,\n",
    "        SUM(totals.transactionRevenue) AS total_revenue,\n",
    "        AVG(totals.transactionRevenue) AS avg_revenue_per_transaction\n",
    "    FROM\n",
    "        `bigquery-public-data.google_analytics_sample.ga_sessions_*`\n",
    "    WHERE\n",
    "        totals.transactions IS NOT NULL\n",
    "    GROUP BY\n",
    "        fullVisitorId\n",
    "    ORDER BY\n",
    "        total_revenue DESC\n",
    "    \"\"\"\n",
    "\n",
    "rows = client.query(query)\n",
    "\n",
    "result_df = rows.to_dataframe()\n",
    "\n",
    "print(result_df)"
   ]
  },
  {
   "cell_type": "code",
   "execution_count": 62,
   "metadata": {},
   "outputs": [
    {
     "name": "stderr",
     "output_type": "stream",
     "text": [
      "/opt/anaconda3/lib/python3.11/site-packages/google/cloud/bigquery/table.py:1727: UserWarning: BigQuery Storage module not found, fetch data with the REST endpoint instead.\n",
      "  warnings.warn(\n"
     ]
    },
    {
     "name": "stdout",
     "output_type": "stream",
     "text": [
      "  channelGrouping  total_transactions   total_revenue  total_visitors\n",
      "0  Organic Search              149447  18235868990000          311607\n",
      "1         Display                5983   5120535430000            4103\n",
      "2        Referral              210812  28666307920000           65661\n",
      "3      Affiliates                 334     27260690000           13400\n",
      "4          Direct              102671  23535451680000          109830\n"
     ]
    }
   ],
   "source": [
    "query_social_engagement = \"\"\"\n",
    "    SELECT\n",
    "        channelGrouping,\n",
    "        SUM(totals.transactions) AS total_transactions,\n",
    "        SUM(totals.transactionRevenue) AS total_revenue,\n",
    "        COUNT(DISTINCT fullVisitorId) AS total_visitors\n",
    "    FROM\n",
    "        `bigquery-public-data.google_analytics_sample.ga_sessions_*`,\n",
    "        UNNEST(hits) AS hit\n",
    "    GROUP BY\n",
    "        channelGrouping\n",
    "    \"\"\"\n",
    "\n",
    "df_social_engagement = client.query(query_social_engagement).to_dataframe()\n",
    "print(df_social_engagement.head())"
   ]
  },
  {
   "cell_type": "markdown",
   "metadata": {},
   "source": [
    "# Q3\n"
   ]
  },
  {
   "cell_type": "markdown",
   "metadata": {},
   "source": [
    "What are the most effective marketing channels and campaigns? - Evaluate the ROI of different marketing channels.\n",
    "\n",
    "- Analyze the impact of various promotional campaigns on sales.\n"
   ]
  },
  {
   "cell_type": "markdown",
   "metadata": {},
   "source": [
    "## Google Analytics\n"
   ]
  },
  {
   "cell_type": "code",
   "execution_count": 12,
   "metadata": {},
   "outputs": [
    {
     "name": "stdout",
     "output_type": "stream",
     "text": [
      "          Channel TrafficSource                Action  UserCount\n",
      "0  Organic Search        google   Click product lists     130574\n",
      "1  Organic Search        google  View product details     105817\n",
      "2        Referral      (direct)   Click product lists      95294\n",
      "3        Referral      (direct)             Check out      95200\n",
      "4  Organic Search      (direct)   Click product lists      80034\n",
      "5          Direct      (direct)   Click product lists      78922\n",
      "6        Referral      (direct)  View product details      77032\n",
      "7  Organic Search      (direct)  View product details      65341\n",
      "8          Direct      (direct)  View product details      63953\n",
      "9  Organic Search        google             Check out      54376 \n",
      "\n"
     ]
    }
   ],
   "source": [
    "query = f\"\"\"\n",
    "        SELECT\n",
    "            channelGrouping AS Channel,\n",
    "            trafficSource.source AS TrafficSource,\n",
    "            CASE\n",
    "                WHEN hits.eCommerceAction.action_type = '1' THEN 'Click product lists'\n",
    "                WHEN hits.eCommerceAction.action_type = '2' THEN 'View product details'\n",
    "                WHEN hits.eCommerceAction.action_type = '3' THEN 'Add to cart'\n",
    "                WHEN hits.eCommerceAction.action_type = '4' THEN 'Remove from cart'\n",
    "                WHEN hits.eCommerceAction.action_type = '5' THEN 'Check out'\n",
    "                WHEN hits.eCommerceAction.action_type = '6' THEN 'Purchase'\n",
    "                WHEN hits.eCommerceAction.action_type = '7' THEN 'Refund'\n",
    "                WHEN hits.eCommerceAction.action_type = '0' THEN 'Unknown'\n",
    "            END AS Action,\n",
    "            COUNT(fullVisitorID) AS UserCount\n",
    "        FROM\n",
    "            `bigquery-public-data.google_analytics_sample.ga_sessions_*`,\n",
    "            UNNEST(hits) AS hits,\n",
    "            UNNEST(hits.product) AS product\n",
    "        WHERE\n",
    "            hits.eCommerceAction.action_type != '0'\n",
    "        GROUP BY Action, TrafficSource, Channel\n",
    "        ORDER BY UserCount DESC\n",
    "        LIMIT 10\n",
    "        \"\"\"\n",
    "\n",
    "rows = client.query(query)\n",
    "\n",
    "result_df = rows.to_dataframe()\n",
    "\n",
    "print(result_df, \"\\n\")"
   ]
  },
  {
   "cell_type": "markdown",
   "metadata": {},
   "source": [
    "Using the dataframe above, we can find which platform and method is the most effective in influencing sales\n"
   ]
  },
  {
   "cell_type": "code",
   "execution_count": 13,
   "metadata": {},
   "outputs": [
    {
     "name": "stdout",
     "output_type": "stream",
     "text": [
      "           Channel   TotalRevenue  UserCount  AVGRevenuePerUser            TrafficSource    Action\n",
      "0         Referral  6861093620000      32354       2.120632e+08                 (direct)  Purchase\n",
      "1           Direct  9231074220000      14684       6.286485e+08                 (direct)  Purchase\n",
      "2   Organic Search  3403071550000      13419       2.536010e+08                   google  Purchase\n",
      "3   Organic Search  1709765760000       7592       2.252062e+08                 (direct)  Purchase\n",
      "4      Paid Search   361601340000       1628       2.221138e+08                   google  Purchase\n",
      "5      Paid Search   207373340000       1296       1.600103e+08                 (direct)  Purchase\n",
      "6          Display  4605551900000       1010       4.559952e+09                      dfa  Purchase\n",
      "7         Referral   374165040000        578       6.473444e+08          mail.google.com  Purchase\n",
      "8         Referral    84159360000        356       2.364027e+08            dealspotr.com  Purchase\n",
      "9         Referral    54588060000        262       2.083514e+08         sites.google.com  Purchase\n",
      "10          Social   152301880000        214       7.116910e+08           l.facebook.com  Purchase\n",
      "11  Organic Search    12025280000        140       8.589486e+07                     bing  Purchase\n",
      "12          Social    20294220000        122       1.663461e+08             facebook.com  Purchase\n",
      "13          Social     5899240000        108       5.462259e+07        groups.google.com  Purchase\n",
      "14         Display     8011500000         98       8.175000e+07                   google  Purchase\n",
      "15  Organic Search     6642820000         98       6.778388e+07                    yahoo  Purchase\n",
      "16      Affiliates     8138520000         62       1.312665e+08                 Partners  Purchase\n",
      "17        Referral     5431540000         62       8.760548e+07  siliconvalley.about.com  Purchase\n",
      "18        Referral     3517200000         50       7.034400e+07            phandroid.com  Purchase\n",
      "19          Social     2622120000         46       5.700261e+07              youtube.com  Purchase \n",
      "\n"
     ]
    }
   ],
   "source": [
    "query = f\"\"\"\n",
    "        SELECT\n",
    "            channelGrouping AS Channel,\n",
    "            SUM(totals.totalTransactionRevenue) AS TotalRevenue,\n",
    "            COUNT(fullVisitorID) AS UserCount,\n",
    "            SUM(totals.totalTransactionRevenue) / COUNT(fullVisitorID) AS AVGRevenuePerUser,\n",
    "            trafficSource.source AS TrafficSource,\n",
    "            CASE\n",
    "                WHEN hits.eCommerceAction.action_type = '1' THEN 'Click product lists'\n",
    "                WHEN hits.eCommerceAction.action_type = '2' THEN 'View product details'\n",
    "                WHEN hits.eCommerceAction.action_type = '3' THEN 'Add to cart'\n",
    "                WHEN hits.eCommerceAction.action_type = '4' THEN 'Remove from cart'\n",
    "                WHEN hits.eCommerceAction.action_type = '5' THEN 'Check out'\n",
    "                WHEN hits.eCommerceAction.action_type = '6' THEN 'Purchase'\n",
    "                WHEN hits.eCommerceAction.action_type = '7' THEN 'Refund'\n",
    "                WHEN hits.eCommerceAction.action_type = '0' THEN 'Unknown'\n",
    "            END AS Action\n",
    "        FROM\n",
    "            `bigquery-public-data.google_analytics_sample.ga_sessions_*`,\n",
    "            UNNEST(hits) AS hits,\n",
    "            UNNEST(hits.product) AS product\n",
    "        WHERE\n",
    "            hits.eCommerceAction.action_type = '6'\n",
    "        GROUP BY Action, TrafficSource, Channel\n",
    "        ORDER BY UserCount DESC\n",
    "        LIMIT 20\n",
    "        \"\"\"\n",
    "\n",
    "rows = client.query(query)\n",
    "\n",
    "result_df = rows.to_dataframe()\n",
    "\n",
    "print(result_df, \"\\n\")"
   ]
  },
  {
   "cell_type": "markdown",
   "metadata": {},
   "source": [
    "Referral searches is currently the most popular method when purchasing an item\n",
    "\n",
    "Direct searches generates a greater revenue\n"
   ]
  },
  {
   "cell_type": "code",
   "execution_count": 144,
   "metadata": {},
   "outputs": [
    {
     "name": "stdout",
     "output_type": "stream",
     "text": [
      "           PageTitle         Channel  VisitorCount  TransactionCount\n",
      "0     Men's-T-Shirts  Organic Search         31922              2698\n",
      "1             Office  Organic Search         22441              2107\n",
      "2   Page Unavailable        Referral         21349               499\n",
      "3               Bags  Organic Search         19002              1288\n",
      "4        Electronics  Organic Search         18657              2486\n",
      "5          Drinkware  Organic Search         17328              1861\n",
      "6     Men's-T-Shirts        Referral         14478              3573\n",
      "7            Apparel  Organic Search         12960               899\n",
      "8          Lifestyle  Organic Search         12844              1428\n",
      "9               Bags        Referral         11839              1474\n",
      "10            Office        Referral         11747              2691\n",
      "11           YouTube  Organic Search         11369               472\n",
      "12       Electronics        Referral         11298              1629\n",
      "13         Drinkware        Referral         11207              2362\n",
      "14            Office          Direct         10857              1453\n",
      "15         Drinkware          Direct         10663               827\n",
      "16   Men's-Outerwear  Organic Search          9776               651\n",
      "17    Men's-T-Shirts          Direct          9076               825\n",
      "18         Lifestyle        Referral          8884              1826\n",
      "19       Electronics          Direct          8728               767 \n",
      "\n"
     ]
    }
   ],
   "source": [
    "# For each page title, find the number of customers and the way people are able to search for their products -> Which is the most effective\n",
    "query = f\"\"\"\n",
    "        SELECT\n",
    "            IF(LENGTH(hits.page.pageTitle) <= 20, hits.page.pageTitle, CONCAT(SUBSTR(hits.page.pageTitle, 1, 20), '...')) AS PageTitle,\n",
    "            channelGrouping AS Channel,\n",
    "            COUNT(fullVisitorID) AS VisitorCount,\n",
    "            SUM(IF(totals.transactions IS NULL, 0, totals.transactions)) AS TransactionCount\n",
    "        FROM\n",
    "            `bigquery-public-data.google_analytics_sample.ga_sessions_*`, UNNEST(hits) AS hits\n",
    "        WHERE hits.page.pageTitle NOT LIKE '%Checkout%'\n",
    "            AND hits.page.pageTitle NOT LIKE '%Home%'\n",
    "            AND hits.page.pageTitle NOT LIKE '%Cart%'\n",
    "            AND hits.page.pageTitle NOT LIKE '%Google%'\n",
    "            AND hits.page.pageTitle NOT LIKE '%Payment%'\n",
    "            AND hits.page.pageTitle NOT LIKE '%results%'\n",
    "        GROUP BY PageTitle, Channel\n",
    "        ORDER BY VisitorCount DESC\n",
    "        LIMIT 20\n",
    "        \"\"\"\n",
    "\n",
    "rows = client.query(query)\n",
    "\n",
    "result_df = rows.to_dataframe()\n",
    "\n",
    "print(result_df, \"\\n\")"
   ]
  },
  {
   "cell_type": "markdown",
   "metadata": {},
   "source": [
    "Referral and organic searches are clearly the most popular traffic channels and a higher traffic generally equates to a higher transaction count\n"
   ]
  }
 ],
 "metadata": {
  "kernelspec": {
   "display_name": "base",
   "language": "python",
   "name": "python3"
  },
  "language_info": {
   "codemirror_mode": {
    "name": "ipython",
    "version": 3
   },
   "file_extension": ".py",
   "mimetype": "text/x-python",
   "name": "python",
   "nbconvert_exporter": "python",
   "pygments_lexer": "ipython3",
   "version": "3.11.7"
  }
 },
 "nbformat": 4,
 "nbformat_minor": 2
}
